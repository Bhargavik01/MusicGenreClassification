{
 "cells": [
  {
   "cell_type": "markdown",
   "id": "fea6bec8",
   "metadata": {},
   "source": [
    "<h1><center><b>Data Analysis Using Statistical Methods</b></center> </h1>\n",
    "<h2><center>Case Study of Categorizing Maternal Health Risk during Pregnency </center></h2>\n",
    "<h3><center>Bhargavi Katta</center></h3>\n",
    "<h3><center>Department of Mathematical Sciences, Stevens Institute of Technology, Hoboken, NJ</center></h3>\n",
    "<h3><center> Project Supervisor: Dr. Hadi Safari Katesari</center></h3>\n",
    "    "
   ]
  },
  {
   "cell_type": "markdown",
   "id": "483c081a",
   "metadata": {},
   "source": [
    "<br>"
   ]
  },
  {
   "cell_type": "markdown",
   "id": "e16253df",
   "metadata": {},
   "source": [
    "<b><h2>Abstract :</h2></b>"
   ]
  },
  {
   "cell_type": "markdown",
   "id": "71ce5255",
   "metadata": {},
   "source": [
    "<p>Statistical analysis is the process of collecting and analyzing data to identify patterns and trends to make informed decision-making.The end goal is to implement various statistical methods on Maternal health risk dataset to get accurate predictions on risklevel. The accuracy metric used in the project give us <b> Accuracy: 91% </b>and a good <b>Recall Score of ~96%</b>  when used regularization with Logestic regression. As we know Recall rate is very import particulay for medical/ health data and here I achieved good recall score.</p>\n"
   ]
  },
  {
   "cell_type": "markdown",
   "id": "6c274aed",
   "metadata": {},
   "source": [
    "<h2><b> CH1 Introduction :</b></h2>"
   ]
  },
  {
   "cell_type": "markdown",
   "id": "b513b1ff",
   "metadata": {},
   "source": [
    "<p>The main idea behind this project is to implement statistical methods during analysis of real data. \n",
    "This includes and is not limited to F-test, Fisher information, ANOVA Analysis, Chi Squared Tests of Independence various distributions, categorical analysis of data, and classification models.<br>\n",
    "<br>\n",
    "To achieve this, I am using \"Maternal Health Risk Data\" from Kaggle . First, I will implement various statistical methods to identify correlations among features and dependencies between the various features of data. Next,I will be implementing Forward and Backward elimination methods to select the best features from our data to fit a logistic regression model to test the accuracy on test data. Then, I will implement PCA on the data set to reduce features and finally will conclude tha whole Analysis.</p>\n",
    "\n"
   ]
  },
  {
   "cell_type": "markdown",
   "id": "0a608335",
   "metadata": {},
   "source": [
    "## CH2: Methodology"
   ]
  },
  {
   "cell_type": "markdown",
   "id": "6b02f2e1",
   "metadata": {},
   "source": [
    "I got the opportunity to implement below statistical methods to understand the data and the hidden trends.\n",
    "\n",
    "Man whitney test to compare the differnt independent samples in the dataset,  Kruskal wallis test for one way analysys of features variance . Since all the features does not have same means I used Nemenyi Test to find which features are statistically different.\n",
    "\n",
    "Then I used chi-square test of independence to analyse the categorical data. Then for feature selection I implemented forward  selection,backward selection and fishers score of the features and found most important features which have significant impact on target variable. Then I implemented bootstrap and kfold cross validation methods to understand the samples and their estimations.\n",
    "\n",
    "Then I implemented Logestic Regression on the features provided by forward selectiona and backward selection methods and also applied Logesstic Regression with regularization factor and which gave the best aaccuracy and recall score compare to all other methods with Logestic regression classifeir.Finally implemented PCA to reduce the dimention of the data.\n"
   ]
  },
  {
   "cell_type": "markdown",
   "id": "bc545fe1",
   "metadata": {},
   "source": [
    "<h2><b> CH3: Data Description:</b></h2>"
   ]
  },
  {
   "cell_type": "markdown",
   "id": "81e68d09",
   "metadata": {},
   "source": [
    "   \n",
    "Source: https://www.kaggle.com/datasets/drmbsharma/maternal-health-risk-data-set?resource=download\n",
    "\n",
    "Data features:\n",
    " - Age: Age in years when a women is pregnant.\n",
    " - SystolicBP: Upper value of Blood Pressure in mmHg, another significant attribute during pregnancy.\n",
    " - DiastolicBP: Lower value of Blood Pressure in mmHg, another significant attribute during pregnancy.\n",
    " - BS: Blood glucose levels is in terms of a molar concentration, mmol/L.\n",
    " - HeartRate: A normal resting heart rate in beats per minute.\n",
    " - Risk Level: Predicted Risk Intensity Level during pregnancy considering the previous attribute.\n"
   ]
  },
  {
   "cell_type": "markdown",
   "id": "0374f48c",
   "metadata": {},
   "source": [
    "### Loading Required Libraries"
   ]
  },
  {
   "cell_type": "code",
   "execution_count": 2,
   "id": "42705099",
   "metadata": {},
   "outputs": [],
   "source": [
    "import numpy as np\n",
    "import pandas as pd\n",
    "import scipy as sc\n",
    "import matplotlib.pyplot as plt\n",
    "import os\n",
    "import seaborn as sns\n",
    "from sklearn.preprocessing import LabelEncoder\n",
    "from scipy.stats import kruskal,mannwhitneyu,chi2, chi2_contingency\n",
    "from statsmodels.stats.multicomp import pairwise_tukeyhsd\n",
    "from sklearn.feature_selection import SelectKBest, chi2, f_classif\n",
    "from sklearn.model_selection import train_test_split \n",
    "from sklearn.metrics import r2_score\n",
    "from sklearn.linear_model import LogisticRegression, LinearRegression;\n",
    "from sklearn.preprocessing import StandardScaler \n",
    "import warnings\n",
    "warnings.filterwarnings('ignore')\n",
    "import pandas.util.testing as tm\n",
    "from sklearn import metrics \n",
    "from sklearn.metrics import accuracy_score, f1_score, precision_score, recall_score, classification_report, confusion_matrix\n",
    "from pingouin import multivariate_normality\n",
    "from sklearn.utils import resample # for Bootstrap sampling\n",
    "from sklearn.model_selection import train_test_split,KFold, LeaveOneOut,cross_val_score;\n",
    "import scikit_posthocs as sp\n",
    "from scipy import stats\n",
    "from scipy.stats import chi2"
   ]
  },
  {
   "cell_type": "markdown",
   "id": "b0eecbd7",
   "metadata": {},
   "source": [
    "### Load the Data set"
   ]
  },
  {
   "cell_type": "code",
   "execution_count": 5,
   "id": "8be73e0c",
   "metadata": {},
   "outputs": [],
   "source": [
    "os.chdir('/Users/gopalrao000/Desktop/Bhargavi/Fall-22/MA-541')"
   ]
  },
  {
   "cell_type": "code",
   "execution_count": 105,
   "id": "bd96457b",
   "metadata": {},
   "outputs": [],
   "source": [
    "data=pd.read_csv('maternal.csv')\n",
    "df = data.copy(deep=True)\n",
    "df1=data.copy(deep=True)\n",
    "\n",
    "\n"
   ]
  },
  {
   "cell_type": "code",
   "execution_count": 7,
   "id": "fa25f45e",
   "metadata": {
    "scrolled": false
   },
   "outputs": [
    {
     "data": {
      "text/html": [
       "<div>\n",
       "<style scoped>\n",
       "    .dataframe tbody tr th:only-of-type {\n",
       "        vertical-align: middle;\n",
       "    }\n",
       "\n",
       "    .dataframe tbody tr th {\n",
       "        vertical-align: top;\n",
       "    }\n",
       "\n",
       "    .dataframe thead th {\n",
       "        text-align: right;\n",
       "    }\n",
       "</style>\n",
       "<table border=\"1\" class=\"dataframe\">\n",
       "  <thead>\n",
       "    <tr style=\"text-align: right;\">\n",
       "      <th></th>\n",
       "      <th>Age</th>\n",
       "      <th>SystolicBP</th>\n",
       "      <th>DiastolicBP</th>\n",
       "      <th>BS</th>\n",
       "      <th>BodyTemp</th>\n",
       "      <th>HeartRate</th>\n",
       "      <th>RiskLevel</th>\n",
       "    </tr>\n",
       "  </thead>\n",
       "  <tbody>\n",
       "    <tr>\n",
       "      <th>0</th>\n",
       "      <td>25</td>\n",
       "      <td>130</td>\n",
       "      <td>80</td>\n",
       "      <td>15.0</td>\n",
       "      <td>98.0</td>\n",
       "      <td>86</td>\n",
       "      <td>high risk</td>\n",
       "    </tr>\n",
       "    <tr>\n",
       "      <th>1</th>\n",
       "      <td>35</td>\n",
       "      <td>140</td>\n",
       "      <td>90</td>\n",
       "      <td>13.0</td>\n",
       "      <td>98.0</td>\n",
       "      <td>70</td>\n",
       "      <td>high risk</td>\n",
       "    </tr>\n",
       "    <tr>\n",
       "      <th>2</th>\n",
       "      <td>29</td>\n",
       "      <td>90</td>\n",
       "      <td>70</td>\n",
       "      <td>8.0</td>\n",
       "      <td>100.0</td>\n",
       "      <td>80</td>\n",
       "      <td>high risk</td>\n",
       "    </tr>\n",
       "    <tr>\n",
       "      <th>3</th>\n",
       "      <td>30</td>\n",
       "      <td>140</td>\n",
       "      <td>85</td>\n",
       "      <td>7.0</td>\n",
       "      <td>98.0</td>\n",
       "      <td>70</td>\n",
       "      <td>high risk</td>\n",
       "    </tr>\n",
       "    <tr>\n",
       "      <th>4</th>\n",
       "      <td>35</td>\n",
       "      <td>120</td>\n",
       "      <td>60</td>\n",
       "      <td>6.1</td>\n",
       "      <td>98.0</td>\n",
       "      <td>76</td>\n",
       "      <td>low risk</td>\n",
       "    </tr>\n",
       "  </tbody>\n",
       "</table>\n",
       "</div>"
      ],
      "text/plain": [
       "   Age  SystolicBP  DiastolicBP    BS  BodyTemp  HeartRate  RiskLevel\n",
       "0   25         130           80  15.0      98.0         86  high risk\n",
       "1   35         140           90  13.0      98.0         70  high risk\n",
       "2   29          90           70   8.0     100.0         80  high risk\n",
       "3   30         140           85   7.0      98.0         70  high risk\n",
       "4   35         120           60   6.1      98.0         76   low risk"
      ]
     },
     "execution_count": 7,
     "metadata": {},
     "output_type": "execute_result"
    }
   ],
   "source": [
    "data.head()"
   ]
  },
  {
   "cell_type": "markdown",
   "id": "57e14006",
   "metadata": {},
   "source": [
    "Looking at the head/sample of the dataset, we can see that there are six columnswhich are numerical that we can use to predict the RiskLevel. Since we want to predict the risklevel, which is a categorical variable.\n",
    "We will use logistic regression classifier.\n",
    "\n",
    "\n"
   ]
  },
  {
   "cell_type": "code",
   "execution_count": 8,
   "id": "7366c4bb",
   "metadata": {},
   "outputs": [],
   "source": [
    "# healthy women stats: Systolic 120 Diastolic 80 BS:7.8 Heart rate:78-82 beatsper min"
   ]
  },
  {
   "cell_type": "code",
   "execution_count": 9,
   "id": "f9f2131d",
   "metadata": {},
   "outputs": [
    {
     "data": {
      "text/plain": [
       "(808, 7)"
      ]
     },
     "execution_count": 9,
     "metadata": {},
     "output_type": "execute_result"
    }
   ],
   "source": [
    "data.shape"
   ]
  },
  {
   "cell_type": "markdown",
   "id": "56701ec6",
   "metadata": {},
   "source": [
    "Data set has total 6 independen features and one dependednt feature with total 808 entries of  data."
   ]
  },
  {
   "cell_type": "markdown",
   "id": "25ba8773",
   "metadata": {},
   "source": [
    "## Data Preprocessing"
   ]
  },
  {
   "cell_type": "code",
   "execution_count": 10,
   "id": "38549b96",
   "metadata": {},
   "outputs": [
    {
     "data": {
      "text/html": [
       "<div>\n",
       "<style scoped>\n",
       "    .dataframe tbody tr th:only-of-type {\n",
       "        vertical-align: middle;\n",
       "    }\n",
       "\n",
       "    .dataframe tbody tr th {\n",
       "        vertical-align: top;\n",
       "    }\n",
       "\n",
       "    .dataframe thead th {\n",
       "        text-align: right;\n",
       "    }\n",
       "</style>\n",
       "<table border=\"1\" class=\"dataframe\">\n",
       "  <thead>\n",
       "    <tr style=\"text-align: right;\">\n",
       "      <th></th>\n",
       "      <th>Age</th>\n",
       "      <th>SystolicBP</th>\n",
       "      <th>DiastolicBP</th>\n",
       "      <th>BS</th>\n",
       "      <th>BodyTemp</th>\n",
       "      <th>HeartRate</th>\n",
       "    </tr>\n",
       "  </thead>\n",
       "  <tbody>\n",
       "    <tr>\n",
       "      <th>count</th>\n",
       "      <td>808.000000</td>\n",
       "      <td>808.000000</td>\n",
       "      <td>808.000000</td>\n",
       "      <td>808.000000</td>\n",
       "      <td>808.000000</td>\n",
       "      <td>808.000000</td>\n",
       "    </tr>\n",
       "    <tr>\n",
       "      <th>mean</th>\n",
       "      <td>30.585396</td>\n",
       "      <td>112.972772</td>\n",
       "      <td>77.500000</td>\n",
       "      <td>9.264839</td>\n",
       "      <td>98.640347</td>\n",
       "      <td>74.297030</td>\n",
       "    </tr>\n",
       "    <tr>\n",
       "      <th>std</th>\n",
       "      <td>13.922075</td>\n",
       "      <td>19.924312</td>\n",
       "      <td>14.772207</td>\n",
       "      <td>3.617635</td>\n",
       "      <td>1.386501</td>\n",
       "      <td>8.822686</td>\n",
       "    </tr>\n",
       "    <tr>\n",
       "      <th>min</th>\n",
       "      <td>10.000000</td>\n",
       "      <td>70.000000</td>\n",
       "      <td>49.000000</td>\n",
       "      <td>6.000000</td>\n",
       "      <td>98.000000</td>\n",
       "      <td>7.000000</td>\n",
       "    </tr>\n",
       "    <tr>\n",
       "      <th>25%</th>\n",
       "      <td>19.000000</td>\n",
       "      <td>90.000000</td>\n",
       "      <td>65.000000</td>\n",
       "      <td>7.000000</td>\n",
       "      <td>98.000000</td>\n",
       "      <td>70.000000</td>\n",
       "    </tr>\n",
       "    <tr>\n",
       "      <th>50%</th>\n",
       "      <td>27.000000</td>\n",
       "      <td>120.000000</td>\n",
       "      <td>80.000000</td>\n",
       "      <td>7.500000</td>\n",
       "      <td>98.000000</td>\n",
       "      <td>76.000000</td>\n",
       "    </tr>\n",
       "    <tr>\n",
       "      <th>75%</th>\n",
       "      <td>40.000000</td>\n",
       "      <td>120.000000</td>\n",
       "      <td>90.000000</td>\n",
       "      <td>11.000000</td>\n",
       "      <td>98.000000</td>\n",
       "      <td>80.000000</td>\n",
       "    </tr>\n",
       "    <tr>\n",
       "      <th>max</th>\n",
       "      <td>70.000000</td>\n",
       "      <td>160.000000</td>\n",
       "      <td>100.000000</td>\n",
       "      <td>19.000000</td>\n",
       "      <td>103.000000</td>\n",
       "      <td>90.000000</td>\n",
       "    </tr>\n",
       "  </tbody>\n",
       "</table>\n",
       "</div>"
      ],
      "text/plain": [
       "              Age  SystolicBP  DiastolicBP          BS    BodyTemp   HeartRate\n",
       "count  808.000000  808.000000   808.000000  808.000000  808.000000  808.000000\n",
       "mean    30.585396  112.972772    77.500000    9.264839   98.640347   74.297030\n",
       "std     13.922075   19.924312    14.772207    3.617635    1.386501    8.822686\n",
       "min     10.000000   70.000000    49.000000    6.000000   98.000000    7.000000\n",
       "25%     19.000000   90.000000    65.000000    7.000000   98.000000   70.000000\n",
       "50%     27.000000  120.000000    80.000000    7.500000   98.000000   76.000000\n",
       "75%     40.000000  120.000000    90.000000   11.000000   98.000000   80.000000\n",
       "max     70.000000  160.000000   100.000000   19.000000  103.000000   90.000000"
      ]
     },
     "execution_count": 10,
     "metadata": {},
     "output_type": "execute_result"
    }
   ],
   "source": [
    "data.describe()"
   ]
  },
  {
   "cell_type": "code",
   "execution_count": 11,
   "id": "dd62ffde",
   "metadata": {
    "scrolled": true
   },
   "outputs": [
    {
     "name": "stdout",
     "output_type": "stream",
     "text": [
      "Columns and their data type:\n",
      "Age              int64\n",
      "SystolicBP       int64\n",
      "DiastolicBP      int64\n",
      "BS             float64\n",
      "BodyTemp       float64\n",
      "HeartRate        int64\n",
      "RiskLevel       object\n",
      "dtype: object\n"
     ]
    }
   ],
   "source": [
    "result = data.dtypes\n",
    "\n",
    "print(\"Columns and their data type:\")\n",
    "print(result)"
   ]
  },
  {
   "cell_type": "markdown",
   "id": "bec9ae56",
   "metadata": {},
   "source": [
    "Convert the independent column to categorical data to make it easy while applying models"
   ]
  },
  {
   "cell_type": "code",
   "execution_count": 12,
   "id": "bdf01aa9",
   "metadata": {},
   "outputs": [],
   "source": [
    "data[\"RiskLevel\"] = data[\"RiskLevel\"].astype('category')"
   ]
  },
  {
   "cell_type": "markdown",
   "id": "5760cf0b",
   "metadata": {},
   "source": [
    "<b>Check for the null values</b><br>\n",
    "Fortunately there are no null/missing values in data"
   ]
  },
  {
   "cell_type": "code",
   "execution_count": 13,
   "id": "112119f0",
   "metadata": {
    "scrolled": true
   },
   "outputs": [
    {
     "data": {
      "text/plain": [
       "Age            0\n",
       "SystolicBP     0\n",
       "DiastolicBP    0\n",
       "BS             0\n",
       "BodyTemp       0\n",
       "HeartRate      0\n",
       "RiskLevel      0\n",
       "dtype: int64"
      ]
     },
     "execution_count": 13,
     "metadata": {},
     "output_type": "execute_result"
    }
   ],
   "source": [
    "check_null_values=data.isnull().sum(axis=0)\n",
    "check_null_values"
   ]
  },
  {
   "cell_type": "code",
   "execution_count": 14,
   "id": "3a50d44c",
   "metadata": {},
   "outputs": [
    {
     "data": {
      "text/html": [
       "<div>\n",
       "<style scoped>\n",
       "    .dataframe tbody tr th:only-of-type {\n",
       "        vertical-align: middle;\n",
       "    }\n",
       "\n",
       "    .dataframe tbody tr th {\n",
       "        vertical-align: top;\n",
       "    }\n",
       "\n",
       "    .dataframe thead th {\n",
       "        text-align: right;\n",
       "    }\n",
       "</style>\n",
       "<table border=\"1\" class=\"dataframe\">\n",
       "  <thead>\n",
       "    <tr style=\"text-align: right;\">\n",
       "      <th></th>\n",
       "      <th>Age</th>\n",
       "      <th>SystolicBP</th>\n",
       "      <th>DiastolicBP</th>\n",
       "      <th>BS</th>\n",
       "      <th>BodyTemp</th>\n",
       "      <th>HeartRate</th>\n",
       "    </tr>\n",
       "  </thead>\n",
       "  <tbody>\n",
       "    <tr>\n",
       "      <th>count</th>\n",
       "      <td>808.000000</td>\n",
       "      <td>808.000000</td>\n",
       "      <td>808.000000</td>\n",
       "      <td>808.000000</td>\n",
       "      <td>808.000000</td>\n",
       "      <td>808.000000</td>\n",
       "    </tr>\n",
       "    <tr>\n",
       "      <th>mean</th>\n",
       "      <td>30.585396</td>\n",
       "      <td>112.972772</td>\n",
       "      <td>77.500000</td>\n",
       "      <td>9.264839</td>\n",
       "      <td>98.640347</td>\n",
       "      <td>74.297030</td>\n",
       "    </tr>\n",
       "    <tr>\n",
       "      <th>std</th>\n",
       "      <td>13.922075</td>\n",
       "      <td>19.924312</td>\n",
       "      <td>14.772207</td>\n",
       "      <td>3.617635</td>\n",
       "      <td>1.386501</td>\n",
       "      <td>8.822686</td>\n",
       "    </tr>\n",
       "    <tr>\n",
       "      <th>min</th>\n",
       "      <td>10.000000</td>\n",
       "      <td>70.000000</td>\n",
       "      <td>49.000000</td>\n",
       "      <td>6.000000</td>\n",
       "      <td>98.000000</td>\n",
       "      <td>7.000000</td>\n",
       "    </tr>\n",
       "    <tr>\n",
       "      <th>25%</th>\n",
       "      <td>19.000000</td>\n",
       "      <td>90.000000</td>\n",
       "      <td>65.000000</td>\n",
       "      <td>7.000000</td>\n",
       "      <td>98.000000</td>\n",
       "      <td>70.000000</td>\n",
       "    </tr>\n",
       "    <tr>\n",
       "      <th>50%</th>\n",
       "      <td>27.000000</td>\n",
       "      <td>120.000000</td>\n",
       "      <td>80.000000</td>\n",
       "      <td>7.500000</td>\n",
       "      <td>98.000000</td>\n",
       "      <td>76.000000</td>\n",
       "    </tr>\n",
       "    <tr>\n",
       "      <th>75%</th>\n",
       "      <td>40.000000</td>\n",
       "      <td>120.000000</td>\n",
       "      <td>90.000000</td>\n",
       "      <td>11.000000</td>\n",
       "      <td>98.000000</td>\n",
       "      <td>80.000000</td>\n",
       "    </tr>\n",
       "    <tr>\n",
       "      <th>max</th>\n",
       "      <td>70.000000</td>\n",
       "      <td>160.000000</td>\n",
       "      <td>100.000000</td>\n",
       "      <td>19.000000</td>\n",
       "      <td>103.000000</td>\n",
       "      <td>90.000000</td>\n",
       "    </tr>\n",
       "  </tbody>\n",
       "</table>\n",
       "</div>"
      ],
      "text/plain": [
       "              Age  SystolicBP  DiastolicBP          BS    BodyTemp   HeartRate\n",
       "count  808.000000  808.000000   808.000000  808.000000  808.000000  808.000000\n",
       "mean    30.585396  112.972772    77.500000    9.264839   98.640347   74.297030\n",
       "std     13.922075   19.924312    14.772207    3.617635    1.386501    8.822686\n",
       "min     10.000000   70.000000    49.000000    6.000000   98.000000    7.000000\n",
       "25%     19.000000   90.000000    65.000000    7.000000   98.000000   70.000000\n",
       "50%     27.000000  120.000000    80.000000    7.500000   98.000000   76.000000\n",
       "75%     40.000000  120.000000    90.000000   11.000000   98.000000   80.000000\n",
       "max     70.000000  160.000000   100.000000   19.000000  103.000000   90.000000"
      ]
     },
     "execution_count": 14,
     "metadata": {},
     "output_type": "execute_result"
    }
   ],
   "source": [
    "data.describe()"
   ]
  },
  {
   "cell_type": "code",
   "execution_count": 15,
   "id": "3a66b0f2",
   "metadata": {},
   "outputs": [
    {
     "data": {
      "text/html": [
       "<div>\n",
       "<style scoped>\n",
       "    .dataframe tbody tr th:only-of-type {\n",
       "        vertical-align: middle;\n",
       "    }\n",
       "\n",
       "    .dataframe tbody tr th {\n",
       "        vertical-align: top;\n",
       "    }\n",
       "\n",
       "    .dataframe thead th {\n",
       "        text-align: right;\n",
       "    }\n",
       "</style>\n",
       "<table border=\"1\" class=\"dataframe\">\n",
       "  <thead>\n",
       "    <tr style=\"text-align: right;\">\n",
       "      <th></th>\n",
       "      <th>Age</th>\n",
       "      <th>SystolicBP</th>\n",
       "      <th>DiastolicBP</th>\n",
       "      <th>BS</th>\n",
       "      <th>BodyTemp</th>\n",
       "      <th>HeartRate</th>\n",
       "    </tr>\n",
       "  </thead>\n",
       "  <tbody>\n",
       "    <tr>\n",
       "      <th>Age</th>\n",
       "      <td>1.000000</td>\n",
       "      <td>0.459576</td>\n",
       "      <td>0.440481</td>\n",
       "      <td>0.470890</td>\n",
       "      <td>-0.293673</td>\n",
       "      <td>0.093484</td>\n",
       "    </tr>\n",
       "    <tr>\n",
       "      <th>SystolicBP</th>\n",
       "      <td>0.459576</td>\n",
       "      <td>1.000000</td>\n",
       "      <td>0.866559</td>\n",
       "      <td>0.487461</td>\n",
       "      <td>-0.303682</td>\n",
       "      <td>0.028800</td>\n",
       "    </tr>\n",
       "    <tr>\n",
       "      <th>DiastolicBP</th>\n",
       "      <td>0.440481</td>\n",
       "      <td>0.866559</td>\n",
       "      <td>1.000000</td>\n",
       "      <td>0.438310</td>\n",
       "      <td>-0.287651</td>\n",
       "      <td>0.025101</td>\n",
       "    </tr>\n",
       "    <tr>\n",
       "      <th>BS</th>\n",
       "      <td>0.470890</td>\n",
       "      <td>0.487461</td>\n",
       "      <td>0.438310</td>\n",
       "      <td>1.000000</td>\n",
       "      <td>-0.124890</td>\n",
       "      <td>0.172422</td>\n",
       "    </tr>\n",
       "    <tr>\n",
       "      <th>BodyTemp</th>\n",
       "      <td>-0.293673</td>\n",
       "      <td>-0.303682</td>\n",
       "      <td>-0.287651</td>\n",
       "      <td>-0.124890</td>\n",
       "      <td>1.000000</td>\n",
       "      <td>0.021143</td>\n",
       "    </tr>\n",
       "    <tr>\n",
       "      <th>HeartRate</th>\n",
       "      <td>0.093484</td>\n",
       "      <td>0.028800</td>\n",
       "      <td>0.025101</td>\n",
       "      <td>0.172422</td>\n",
       "      <td>0.021143</td>\n",
       "      <td>1.000000</td>\n",
       "    </tr>\n",
       "  </tbody>\n",
       "</table>\n",
       "</div>"
      ],
      "text/plain": [
       "                  Age  SystolicBP  DiastolicBP        BS  BodyTemp  HeartRate\n",
       "Age          1.000000    0.459576     0.440481  0.470890 -0.293673   0.093484\n",
       "SystolicBP   0.459576    1.000000     0.866559  0.487461 -0.303682   0.028800\n",
       "DiastolicBP  0.440481    0.866559     1.000000  0.438310 -0.287651   0.025101\n",
       "BS           0.470890    0.487461     0.438310  1.000000 -0.124890   0.172422\n",
       "BodyTemp    -0.293673   -0.303682    -0.287651 -0.124890  1.000000   0.021143\n",
       "HeartRate    0.093484    0.028800     0.025101  0.172422  0.021143   1.000000"
      ]
     },
     "execution_count": 15,
     "metadata": {},
     "output_type": "execute_result"
    }
   ],
   "source": [
    "corr_matrix = data.corr()\n",
    "corr_matrix"
   ]
  },
  {
   "cell_type": "markdown",
   "id": "d6a9369b",
   "metadata": {},
   "source": [
    "## Data Visualization"
   ]
  },
  {
   "cell_type": "code",
   "execution_count": 16,
   "id": "785b4aa1",
   "metadata": {},
   "outputs": [],
   "source": [
    "le = LabelEncoder()\n",
    "level = le.fit_transform(data['RiskLevel'])\n",
    "data['RiskLevel']=level\n",
    "# high risk=0 Low Risk=1"
   ]
  },
  {
   "cell_type": "markdown",
   "id": "1cd34b5c",
   "metadata": {},
   "source": [
    "<h2> RiskLevel</h2>"
   ]
  },
  {
   "cell_type": "code",
   "execution_count": 17,
   "id": "33787d10",
   "metadata": {
    "scrolled": true
   },
   "outputs": [
    {
     "data": {
      "image/png": "[encoded data removed]",
      "text/plain": [
       "<Figure size 432x288 with 1 Axes>"
      ]
     },
     "metadata": {
      "needs_background": "light"
     },
     "output_type": "display_data"
    }
   ],
   "source": [
    "risk_data = data.RiskLevel.value_counts().plot.bar()\n",
    "risk_data.set_xlabel('Risk Levels');"
   ]
  },
  {
   "cell_type": "markdown",
   "id": "61984594",
   "metadata": {},
   "source": [
    "<b>\n",
    "    \n",
    " - High risk Data:41%\n",
    "    \n",
    " - Low Risk Data:59%\n",
    "</b>"
   ]
  },
  {
   "cell_type": "markdown",
   "id": "51fe9695",
   "metadata": {},
   "source": [
    "<h2>AGE</h2>"
   ]
  },
  {
   "cell_type": "code",
   "execution_count": 18,
   "id": "1e1e4c37",
   "metadata": {},
   "outputs": [
    {
     "data": {
      "image/png": "[encoded data removed]",
      "text/plain": [
       "<Figure size 432x288 with 1 Axes>"
      ]
     },
     "metadata": {
      "needs_background": "light"
     },
     "output_type": "display_data"
    }
   ],
   "source": [
    "plt.hist(data.Age)\n",
    "plt.title(\"Age plot\")\n",
    "plt.xlabel(\"Age\")\n",
    "plt.ylabel(\"count\")\n",
    "plt.show()\n"
   ]
  },
  {
   "cell_type": "markdown",
   "id": "abf45585",
   "metadata": {},
   "source": [
    "We could see that age starts from 10 and ends at 70 with most of the ages from 15 to 25."
   ]
  },
  {
   "cell_type": "markdown",
   "id": "8500f547",
   "metadata": {},
   "source": [
    "<h2> Visualizing RiskLevel categories with respect to all other features</h2>"
   ]
  },
  {
   "cell_type": "markdown",
   "id": "441aee4b",
   "metadata": {},
   "source": [
    "<h4>RiskLevel v/s Age</h4>"
   ]
  },
  {
   "cell_type": "code",
   "execution_count": 19,
   "id": "f6a53d7e",
   "metadata": {
    "scrolled": false
   },
   "outputs": [
    {
     "data": {
      "text/plain": [
       "<AxesSubplot:xlabel='RiskLevel', ylabel='Age'>"
      ]
     },
     "execution_count": 19,
     "metadata": {},
     "output_type": "execute_result"
    },
    {
     "data": {
      "image/png": "[encoded data removed]",
      "text/plain": [
       "<Figure size 432x288 with 1 Axes>"
      ]
     },
     "metadata": {
      "needs_background": "light"
     },
     "output_type": "display_data"
    }
   ],
   "source": [
    "sns.boxplot(data=data,x='RiskLevel',y='Age')"
   ]
  },
  {
   "cell_type": "markdown",
   "id": "c9ccb100",
   "metadata": {},
   "source": [
    "<h4>RiskLevel v/s Systolic BP</h4>"
   ]
  },
  {
   "cell_type": "code",
   "execution_count": 20,
   "id": "beaaddc0",
   "metadata": {
    "scrolled": false
   },
   "outputs": [
    {
     "data": {
      "text/plain": [
       "<AxesSubplot:xlabel='RiskLevel', ylabel='SystolicBP'>"
      ]
     },
     "execution_count": 20,
     "metadata": {},
     "output_type": "execute_result"
    },
    {
     "data": {
      "image/png": "[encoded data removed]",
      "text/plain": [
       "<Figure size 432x288 with 1 Axes>"
      ]
     },
     "metadata": {
      "needs_background": "light"
     },
     "output_type": "display_data"
    }
   ],
   "source": [
    "sns.boxplot(data=data,x='RiskLevel',y='SystolicBP')"
   ]
  },
  {
   "cell_type": "markdown",
   "id": "104c8d29",
   "metadata": {},
   "source": [
    "<h4>RiskLevel v/s Diastolic BP</h4>"
   ]
  },
  {
   "cell_type": "code",
   "execution_count": 21,
   "id": "577b0414",
   "metadata": {
    "scrolled": true
   },
   "outputs": [
    {
     "data": {
      "text/plain": [
       "<AxesSubplot:xlabel='RiskLevel', ylabel='DiastolicBP'>"
      ]
     },
     "execution_count": 21,
     "metadata": {},
     "output_type": "execute_result"
    },
    {
     "data": {
      "image/png": "[encoded data removed]",
      "text/plain": [
       "<Figure size 432x288 with 1 Axes>"
      ]
     },
     "metadata": {
      "needs_background": "light"
     },
     "output_type": "display_data"
    }
   ],
   "source": [
    "sns.boxplot(data=data,x='RiskLevel',y='DiastolicBP')"
   ]
  },
  {
   "cell_type": "markdown",
   "id": "eb30c9dc",
   "metadata": {},
   "source": [
    "<h4>RiskLevel v/s Blood Sugar</h4>"
   ]
  },
  {
   "cell_type": "code",
   "execution_count": 22,
   "id": "0890901c",
   "metadata": {
    "scrolled": true
   },
   "outputs": [
    {
     "data": {
      "text/plain": [
       "<AxesSubplot:xlabel='RiskLevel', ylabel='BS'>"
      ]
     },
     "execution_count": 22,
     "metadata": {},
     "output_type": "execute_result"
    },
    {
     "data": {
      "image/png": "[encoded data removed]",
      "text/plain": [
       "<Figure size 432x288 with 1 Axes>"
      ]
     },
     "metadata": {
      "needs_background": "light"
     },
     "output_type": "display_data"
    }
   ],
   "source": [
    "sns.boxplot(data=data,x='RiskLevel',y='BS')\n"
   ]
  },
  {
   "cell_type": "markdown",
   "id": "46273c78",
   "metadata": {},
   "source": [
    "<h4>RiskLevel v/s BodyTemparature</h4>"
   ]
  },
  {
   "cell_type": "code",
   "execution_count": 23,
   "id": "3445fb56",
   "metadata": {},
   "outputs": [
    {
     "data": {
      "text/plain": [
       "<AxesSubplot:xlabel='RiskLevel', ylabel='BodyTemp'>"
      ]
     },
     "execution_count": 23,
     "metadata": {},
     "output_type": "execute_result"
    },
    {
     "data": {
      "image/png": "[encoded data removed]",
      "text/plain": [
       "<Figure size 432x288 with 1 Axes>"
      ]
     },
     "metadata": {
      "needs_background": "light"
     },
     "output_type": "display_data"
    }
   ],
   "source": [
    "sns.boxplot(data=data,x='RiskLevel',y='BodyTemp')"
   ]
  },
  {
   "cell_type": "markdown",
   "id": "79718dc6",
   "metadata": {},
   "source": [
    "<h4>RiskLevel v/s Heart Rate</h4>"
   ]
  },
  {
   "cell_type": "code",
   "execution_count": 24,
   "id": "dbb25cb7",
   "metadata": {},
   "outputs": [
    {
     "data": {
      "text/plain": [
       "<AxesSubplot:xlabel='RiskLevel', ylabel='HeartRate'>"
      ]
     },
     "execution_count": 24,
     "metadata": {},
     "output_type": "execute_result"
    },
    {
     "data": {
      "image/png": "[encoded data removed]",
      "text/plain": [
       "<Figure size 432x288 with 1 Axes>"
      ]
     },
     "metadata": {
      "needs_background": "light"
     },
     "output_type": "display_data"
    }
   ],
   "source": [
    "sns.boxplot(data=data,x='RiskLevel',y='HeartRate')"
   ]
  },
  {
   "cell_type": "markdown",
   "id": "e83cf992",
   "metadata": {},
   "source": [
    "  \n",
    "\n"
   ]
  },
  {
   "cell_type": "markdown",
   "id": "05a6ad7a",
   "metadata": {},
   "source": [
    "<h4>All features in single plot</h4>"
   ]
  },
  {
   "cell_type": "code",
   "execution_count": 25,
   "id": "3d4b68f6",
   "metadata": {
    "scrolled": false
   },
   "outputs": [
    {
     "data": {
      "text/plain": [
       "<AxesSubplot:>"
      ]
     },
     "execution_count": 25,
     "metadata": {},
     "output_type": "execute_result"
    },
    {
     "data": {
      "image/png": "[encoded data removed]",
      "text/plain": [
       "<Figure size 1080x1080 with 1 Axes>"
      ]
     },
     "metadata": {
      "needs_background": "light"
     },
     "output_type": "display_data"
    }
   ],
   "source": [
    "fig = plt.figure(figsize =(15, 15))\n",
    "sns.boxplot(data=data)"
   ]
  },
  {
   "cell_type": "code",
   "execution_count": 26,
   "id": "a23662e7",
   "metadata": {},
   "outputs": [
    {
     "data": {
      "text/plain": [
       "array([[<AxesSubplot:title={'center':'Age'}, xlabel='[RiskLevel]'>,\n",
       "        <AxesSubplot:title={'center':'BS'}, xlabel='[RiskLevel]'>],\n",
       "       [<AxesSubplot:title={'center':'BodyTemp'}, xlabel='[RiskLevel]'>,\n",
       "        <AxesSubplot:title={'center':'DiastolicBP'}, xlabel='[RiskLevel]'>],\n",
       "       [<AxesSubplot:title={'center':'HeartRate'}, xlabel='[RiskLevel]'>,\n",
       "        <AxesSubplot:title={'center':'SystolicBP'}, xlabel='[RiskLevel]'>]],\n",
       "      dtype=object)"
      ]
     },
     "execution_count": 26,
     "metadata": {},
     "output_type": "execute_result"
    },
    {
     "data": {
      "image/png": "[encoded data removed]",
      "text/plain": [
       "<Figure size 1080x2160 with 6 Axes>"
      ]
     },
     "metadata": {
      "needs_background": "light"
     },
     "output_type": "display_data"
    }
   ],
   "source": [
    "\n",
    "data.boxplot(by='RiskLevel',figsize=(15,30))"
   ]
  },
  {
   "cell_type": "markdown",
   "id": "c6c180eb",
   "metadata": {},
   "source": [
    "# Chapter 4"
   ]
  },
  {
   "cell_type": "markdown",
   "id": "16dfede2",
   "metadata": {},
   "source": [
    "# Check if the data is normally distributed or not"
   ]
  },
  {
   "cell_type": "markdown",
   "id": "a44af406",
   "metadata": {},
   "source": [
    "This is a hypotheses test and the two hypotheses are as follows:\n",
    "\n",
    "--> H0 (accepted): The variables follow a multivariate normal distribution..(Po>0.05)\n",
    "\n",
    "--> Ha (rejected): The variables do not follow a multivariate normal distribution."
   ]
  },
  {
   "cell_type": "code",
   "execution_count": 27,
   "id": "7d9c1942",
   "metadata": {},
   "outputs": [
    {
     "data": {
      "text/plain": [
       "HZResults(hz=14.302312865662838, pval=0.0, normal=False)"
      ]
     },
     "execution_count": 27,
     "metadata": {},
     "output_type": "execute_result"
    }
   ],
   "source": [
    "multivariate_normality(data, alpha=.05)"
   ]
  },
  {
   "cell_type": "markdown",
   "id": "074617a2",
   "metadata": {},
   "source": [
    "<font color=green>\n",
    "<b> Output Interpretation:</b>\n",
    "\n",
    "Since the p-value is 0.0 which is less than  alpha(0.5) \n",
    "we will reject the null hypothesis and Accept Alternate Hypothesis\n",
    "\n",
    "So The variables do not follow a multivariate normal distribution.\n",
    "   "
   ]
  },
  {
   "cell_type": "markdown",
   "id": "d7b43120",
   "metadata": {},
   "source": [
    "<br>"
   ]
  },
  {
   "cell_type": "code",
   "execution_count": 28,
   "id": "2b36b8d7",
   "metadata": {},
   "outputs": [
    {
     "data": {
      "text/html": [
       "<div>\n",
       "<style scoped>\n",
       "    .dataframe tbody tr th:only-of-type {\n",
       "        vertical-align: middle;\n",
       "    }\n",
       "\n",
       "    .dataframe tbody tr th {\n",
       "        vertical-align: top;\n",
       "    }\n",
       "\n",
       "    .dataframe thead th {\n",
       "        text-align: right;\n",
       "    }\n",
       "</style>\n",
       "<table border=\"1\" class=\"dataframe\">\n",
       "  <thead>\n",
       "    <tr style=\"text-align: right;\">\n",
       "      <th></th>\n",
       "      <th>Age</th>\n",
       "      <th>SystolicBP</th>\n",
       "      <th>DiastolicBP</th>\n",
       "      <th>BS</th>\n",
       "      <th>BodyTemp</th>\n",
       "      <th>HeartRate</th>\n",
       "      <th>RiskLevel</th>\n",
       "    </tr>\n",
       "  </thead>\n",
       "  <tbody>\n",
       "    <tr>\n",
       "      <th>0</th>\n",
       "      <td>25</td>\n",
       "      <td>130</td>\n",
       "      <td>80</td>\n",
       "      <td>15.0</td>\n",
       "      <td>98.0</td>\n",
       "      <td>86</td>\n",
       "      <td>0</td>\n",
       "    </tr>\n",
       "    <tr>\n",
       "      <th>1</th>\n",
       "      <td>35</td>\n",
       "      <td>140</td>\n",
       "      <td>90</td>\n",
       "      <td>13.0</td>\n",
       "      <td>98.0</td>\n",
       "      <td>70</td>\n",
       "      <td>0</td>\n",
       "    </tr>\n",
       "    <tr>\n",
       "      <th>2</th>\n",
       "      <td>29</td>\n",
       "      <td>90</td>\n",
       "      <td>70</td>\n",
       "      <td>8.0</td>\n",
       "      <td>100.0</td>\n",
       "      <td>80</td>\n",
       "      <td>0</td>\n",
       "    </tr>\n",
       "    <tr>\n",
       "      <th>3</th>\n",
       "      <td>30</td>\n",
       "      <td>140</td>\n",
       "      <td>85</td>\n",
       "      <td>7.0</td>\n",
       "      <td>98.0</td>\n",
       "      <td>70</td>\n",
       "      <td>0</td>\n",
       "    </tr>\n",
       "    <tr>\n",
       "      <th>4</th>\n",
       "      <td>35</td>\n",
       "      <td>120</td>\n",
       "      <td>60</td>\n",
       "      <td>6.1</td>\n",
       "      <td>98.0</td>\n",
       "      <td>76</td>\n",
       "      <td>1</td>\n",
       "    </tr>\n",
       "  </tbody>\n",
       "</table>\n",
       "</div>"
      ],
      "text/plain": [
       "   Age  SystolicBP  DiastolicBP    BS  BodyTemp  HeartRate  RiskLevel\n",
       "0   25         130           80  15.0      98.0         86          0\n",
       "1   35         140           90  13.0      98.0         70          0\n",
       "2   29          90           70   8.0     100.0         80          0\n",
       "3   30         140           85   7.0      98.0         70          0\n",
       "4   35         120           60   6.1      98.0         76          1"
      ]
     },
     "execution_count": 28,
     "metadata": {},
     "output_type": "execute_result"
    }
   ],
   "source": [
    "data.head()"
   ]
  },
  {
   "cell_type": "code",
   "execution_count": 29,
   "id": "3870df69",
   "metadata": {},
   "outputs": [],
   "source": [
    "data['Age_cat'] = pd.cut(data['Age'],\n",
    "                      bins=[0, 20,40, 70],\n",
    "                      labels=['young','Adult','old'])"
   ]
  },
  {
   "cell_type": "code",
   "execution_count": 30,
   "id": "86e01632",
   "metadata": {},
   "outputs": [],
   "source": [
    "# Converting age to categorical data \n",
    "data['Age_cat'] = pd.cut(data['Age'],\n",
    "                      bins=[0, 20,40, 70],\n",
    "                      labels=['young','Adult','old'])\n",
    "le = LabelEncoder()\n",
    "level = le.fit_transform(data['Age_cat'])\n",
    "data['age_cat_encode']=level"
   ]
  },
  {
   "cell_type": "code",
   "execution_count": 31,
   "id": "fab8c764",
   "metadata": {
    "scrolled": true
   },
   "outputs": [],
   "source": [
    "# Converting All features to categorical data \n",
    "data['Age_cat'] = pd.cut(data['Age'],\n",
    "                      bins=[0, 20,40, 70],\n",
    "                      labels=['young','Adult','old'])\n",
    "le = LabelEncoder()\n",
    "level = le.fit_transform(data['Age_cat'])\n",
    "data['age_cat_encode']=level\n",
    "\n",
    "data['systolic_cat'] = pd.cut(data['SystolicBP'],\n",
    "                      bins=[0, 90, 130,200],\n",
    "                      labels=['low', 'normal', 'high'])\n",
    "\n",
    "le = LabelEncoder()\n",
    "level = le.fit_transform(data['systolic_cat'])\n",
    "data['sbp_onehot']=level\n",
    "\n",
    "data['diasstolic_cat'] = pd.cut(data['DiastolicBP'],\n",
    "                      bins=[0, 60, 85,110],\n",
    "                      labels=['low', 'normal', 'high'])\n",
    "le = LabelEncoder()\n",
    "level = le.fit_transform(data['diasstolic_cat'])\n",
    "data['dbp_onehot']=level\n",
    "\n",
    "data['HR_cat'] = pd.cut(data['HeartRate'],\n",
    "                      bins=[0, 75,100],\n",
    "                      labels=['lessthan75','morethan75'])\n",
    "le = LabelEncoder()\n",
    "level = le.fit_transform(data['HR_cat'])\n",
    "data['HR_cat_onehot']=level\n",
    "\n"
   ]
  },
  {
   "cell_type": "code",
   "execution_count": 32,
   "id": "e2faf45d",
   "metadata": {},
   "outputs": [
    {
     "data": {
      "text/html": [
       "<div>\n",
       "<style scoped>\n",
       "    .dataframe tbody tr th:only-of-type {\n",
       "        vertical-align: middle;\n",
       "    }\n",
       "\n",
       "    .dataframe tbody tr th {\n",
       "        vertical-align: top;\n",
       "    }\n",
       "\n",
       "    .dataframe thead th {\n",
       "        text-align: right;\n",
       "    }\n",
       "</style>\n",
       "<table border=\"1\" class=\"dataframe\">\n",
       "  <thead>\n",
       "    <tr style=\"text-align: right;\">\n",
       "      <th></th>\n",
       "      <th>Age</th>\n",
       "      <th>SystolicBP</th>\n",
       "      <th>DiastolicBP</th>\n",
       "      <th>BS</th>\n",
       "      <th>BodyTemp</th>\n",
       "      <th>HeartRate</th>\n",
       "      <th>RiskLevel</th>\n",
       "      <th>Age_cat</th>\n",
       "      <th>age_cat_encode</th>\n",
       "      <th>systolic_cat</th>\n",
       "      <th>sbp_onehot</th>\n",
       "      <th>diasstolic_cat</th>\n",
       "      <th>dbp_onehot</th>\n",
       "      <th>HR_cat</th>\n",
       "      <th>HR_cat_onehot</th>\n",
       "    </tr>\n",
       "  </thead>\n",
       "  <tbody>\n",
       "    <tr>\n",
       "      <th>0</th>\n",
       "      <td>25</td>\n",
       "      <td>130</td>\n",
       "      <td>80</td>\n",
       "      <td>15.0</td>\n",
       "      <td>98.0</td>\n",
       "      <td>86</td>\n",
       "      <td>0</td>\n",
       "      <td>Adult</td>\n",
       "      <td>0</td>\n",
       "      <td>normal</td>\n",
       "      <td>2</td>\n",
       "      <td>normal</td>\n",
       "      <td>2</td>\n",
       "      <td>morethan75</td>\n",
       "      <td>1</td>\n",
       "    </tr>\n",
       "    <tr>\n",
       "      <th>1</th>\n",
       "      <td>35</td>\n",
       "      <td>140</td>\n",
       "      <td>90</td>\n",
       "      <td>13.0</td>\n",
       "      <td>98.0</td>\n",
       "      <td>70</td>\n",
       "      <td>0</td>\n",
       "      <td>Adult</td>\n",
       "      <td>0</td>\n",
       "      <td>high</td>\n",
       "      <td>0</td>\n",
       "      <td>high</td>\n",
       "      <td>0</td>\n",
       "      <td>lessthan75</td>\n",
       "      <td>0</td>\n",
       "    </tr>\n",
       "    <tr>\n",
       "      <th>2</th>\n",
       "      <td>29</td>\n",
       "      <td>90</td>\n",
       "      <td>70</td>\n",
       "      <td>8.0</td>\n",
       "      <td>100.0</td>\n",
       "      <td>80</td>\n",
       "      <td>0</td>\n",
       "      <td>Adult</td>\n",
       "      <td>0</td>\n",
       "      <td>low</td>\n",
       "      <td>1</td>\n",
       "      <td>normal</td>\n",
       "      <td>2</td>\n",
       "      <td>morethan75</td>\n",
       "      <td>1</td>\n",
       "    </tr>\n",
       "    <tr>\n",
       "      <th>3</th>\n",
       "      <td>30</td>\n",
       "      <td>140</td>\n",
       "      <td>85</td>\n",
       "      <td>7.0</td>\n",
       "      <td>98.0</td>\n",
       "      <td>70</td>\n",
       "      <td>0</td>\n",
       "      <td>Adult</td>\n",
       "      <td>0</td>\n",
       "      <td>high</td>\n",
       "      <td>0</td>\n",
       "      <td>normal</td>\n",
       "      <td>2</td>\n",
       "      <td>lessthan75</td>\n",
       "      <td>0</td>\n",
       "    </tr>\n",
       "    <tr>\n",
       "      <th>4</th>\n",
       "      <td>35</td>\n",
       "      <td>120</td>\n",
       "      <td>60</td>\n",
       "      <td>6.1</td>\n",
       "      <td>98.0</td>\n",
       "      <td>76</td>\n",
       "      <td>1</td>\n",
       "      <td>Adult</td>\n",
       "      <td>0</td>\n",
       "      <td>normal</td>\n",
       "      <td>2</td>\n",
       "      <td>low</td>\n",
       "      <td>1</td>\n",
       "      <td>morethan75</td>\n",
       "      <td>1</td>\n",
       "    </tr>\n",
       "  </tbody>\n",
       "</table>\n",
       "</div>"
      ],
      "text/plain": [
       "   Age  SystolicBP  DiastolicBP    BS  BodyTemp  HeartRate  RiskLevel Age_cat  \\\n",
       "0   25         130           80  15.0      98.0         86          0   Adult   \n",
       "1   35         140           90  13.0      98.0         70          0   Adult   \n",
       "2   29          90           70   8.0     100.0         80          0   Adult   \n",
       "3   30         140           85   7.0      98.0         70          0   Adult   \n",
       "4   35         120           60   6.1      98.0         76          1   Adult   \n",
       "\n",
       "   age_cat_encode systolic_cat  sbp_onehot diasstolic_cat  dbp_onehot  \\\n",
       "0               0       normal           2         normal           2   \n",
       "1               0         high           0           high           0   \n",
       "2               0          low           1         normal           2   \n",
       "3               0         high           0         normal           2   \n",
       "4               0       normal           2            low           1   \n",
       "\n",
       "       HR_cat  HR_cat_onehot  \n",
       "0  morethan75              1  \n",
       "1  lessthan75              0  \n",
       "2  morethan75              1  \n",
       "3  lessthan75              0  \n",
       "4  morethan75              1  "
      ]
     },
     "execution_count": 32,
     "metadata": {},
     "output_type": "execute_result"
    }
   ],
   "source": [
    "data.head()"
   ]
  },
  {
   "cell_type": "markdown",
   "id": "917e812e",
   "metadata": {},
   "source": [
    "# 4.1\n",
    "# Comparing Two sample\n",
    "## A Non parametric Method-The Mann-Whitney Test"
   ]
  },
  {
   "cell_type": "markdown",
   "id": "23b86587",
   "metadata": {},
   "source": [
    "Nonparametric statistics are those methods that do not assume that data is following any specific distribution.. Since our samples are independent and we have an unknown distribution, So  we can use  Mann-Whitney Test (Wilcoxon rank sum test)"
   ]
  },
  {
   "cell_type": "markdown",
   "id": "8bd60c03",
   "metadata": {},
   "source": [
    "Mann-Whitney test is used for comparing  two different independent groups.\n",
    "It tests the hypothesis that if the two groups are from same population or have the same medians.\n",
    "It does not assume any specific distribution while calculating test statistics and p values."
   ]
  },
  {
   "cell_type": "markdown",
   "id": "d6eacc61",
   "metadata": {},
   "source": [
    "<b> Hypothesis </b>\n",
    "This is a hypotheses test and the two hypotheses are as follows with aplha=0.5:\n",
    "\n",
    "--> H0 (accepted): The samples are from same distribution and they have same mean.\n",
    "\n",
    "--> Ha (rejected): The samples are not from same distribution and thye do not have same mean."
   ]
  },
  {
   "cell_type": "code",
   "execution_count": 33,
   "id": "e49aa39e",
   "metadata": {},
   "outputs": [
    {
     "name": "stdout",
     "output_type": "stream",
     "text": [
      "Statistics=290797.000, p=0.000\n",
      "Different distribution (reject H0)\n"
     ]
    }
   ],
   "source": [
    "stat, p = mannwhitneyu(data.RiskLevel, data.age_cat_encode) \n",
    "print('Statistics=%.3f, p=%.3f' % (stat, p))\n",
    "alpha = 0.05\n",
    "if p > alpha:\n",
    "    print('Same distribution (fail to reject H0)')\n",
    "else:\n",
    "    print('Different distribution (reject H0)')\n"
   ]
  },
  {
   "cell_type": "markdown",
   "id": "0283dc25",
   "metadata": {},
   "source": [
    "<font color=green>\n",
    "Conclusion:\n",
    "    \n",
    " - [p < Alpha]  and also test Statistic is greater than Zvalue of 0.05 from Z-table: Reject null Hypothesis        \n",
    " - Means Samples are following different distributions and their means are not same\n",
    "              \n",
    " \n",
    " - Man whitney test was applied to all other converted categorical features and all are following different       distributions\n",
    "              \n",
    "<b>Therefore None of the independent feature and dependent feature is following same distribution</b>"
   ]
  },
  {
   "cell_type": "markdown",
   "id": "29d8c206",
   "metadata": {},
   "source": [
    "# CH. 4.2\n",
    "# ONE WAY ANOVA \n",
    "## KURSKAL-WALLIS TEST -Data is non parametric\n"
   ]
  },
  {
   "cell_type": "markdown",
   "id": "7163382e",
   "metadata": {},
   "source": [
    "### A Non parametric Method-The Kruskal-Walis Test (one-way analysis of variance or one-way ANOVA)"
   ]
  },
  {
   "cell_type": "markdown",
   "id": "11ce84b8",
   "metadata": {},
   "source": [
    "If more than 2 columns/groups need to be analysed, we will use Kruskal-Wallis test.The K −W Test is a generalization of M −W test that observations are assumed to be independent but no particular distribution from, such as normal, is assumed. The obs are pooled together and ranked"
   ]
  },
  {
   "cell_type": "markdown",
   "id": "6eda5d80",
   "metadata": {},
   "source": [
    "This is a hypotheses test and the two hypotheses are as follows with aplha=0.5:\n",
    " -  H0 (accepted): The samples are following same distribution.\n",
    " - Ha (rejected): The samples are not following same distribution."
   ]
  },
  {
   "cell_type": "code",
   "execution_count": 34,
   "id": "a27e6c63",
   "metadata": {},
   "outputs": [
    {
     "name": "stdout",
     "output_type": "stream",
     "text": [
      "Statistics=5188.758, p=0.000\n"
     ]
    }
   ],
   "source": [
    "stat, p = kruskal(data.Age,data.BodyTemp,data.HeartRate,data.SystolicBP, data.DiastolicBP, data.BS,data.RiskLevel)\n",
    "print('Statistics=%.3f, p=%.3f' % (stat, p))"
   ]
  },
  {
   "cell_type": "code",
   "execution_count": 35,
   "id": "e26ad90c",
   "metadata": {},
   "outputs": [
    {
     "name": "stdout",
     "output_type": "stream",
     "text": [
      "Different distributions (reject H0)\n"
     ]
    }
   ],
   "source": [
    "alpha = 0.05\n",
    "if p > alpha:\n",
    "    print('Same distributions (fail to reject H0)')\n",
    "else:\n",
    "    print('Different distributions (reject H0)')"
   ]
  },
  {
   "cell_type": "markdown",
   "id": "a9c22580",
   "metadata": {},
   "source": [
    "<font color=green>\n",
    "\n",
    "Conclusion: Statistic is grater than Z value of 0.05 and also p-value is less than Aplha i.e0.05.\n",
    " - so we have sufficient evidence to say that the mean values across each group are not equal.\n",
    " - However, we are unclear that which groups are different from each other. It simply tells us that not all of the group means are equal. In order to find out exactly which groups are different from each other, we must conduct a post hoc test.\n",
    "   \n",
    "Thus, we can perform  Nemenyi Test to determine exactly which group means are different.\n",
    "\n",
    "   "
   ]
  },
  {
   "cell_type": "markdown",
   "id": "1bfc60eb",
   "metadata": {},
   "source": [
    "<h3> Nemenyi Test</h3>"
   ]
  },
  {
   "cell_type": "code",
   "execution_count": 37,
   "id": "9bb8e995",
   "metadata": {},
   "outputs": [
    {
     "data": {
      "text/html": [
       "<div>\n",
       "<style scoped>\n",
       "    .dataframe tbody tr th:only-of-type {\n",
       "        vertical-align: middle;\n",
       "    }\n",
       "\n",
       "    .dataframe tbody tr th {\n",
       "        vertical-align: top;\n",
       "    }\n",
       "\n",
       "    .dataframe thead th {\n",
       "        text-align: right;\n",
       "    }\n",
       "</style>\n",
       "<table border=\"1\" class=\"dataframe\">\n",
       "  <thead>\n",
       "    <tr style=\"text-align: right;\">\n",
       "      <th></th>\n",
       "      <th>0</th>\n",
       "      <th>1</th>\n",
       "      <th>2</th>\n",
       "      <th>3</th>\n",
       "      <th>4</th>\n",
       "      <th>5</th>\n",
       "      <th>6</th>\n",
       "    </tr>\n",
       "  </thead>\n",
       "  <tbody>\n",
       "    <tr>\n",
       "      <th>0</th>\n",
       "      <td>1.000</td>\n",
       "      <td>0.001</td>\n",
       "      <td>0.00100</td>\n",
       "      <td>0.001</td>\n",
       "      <td>0.00100</td>\n",
       "      <td>0.001</td>\n",
       "      <td>0.001</td>\n",
       "    </tr>\n",
       "    <tr>\n",
       "      <th>1</th>\n",
       "      <td>0.001</td>\n",
       "      <td>1.000</td>\n",
       "      <td>0.00100</td>\n",
       "      <td>0.001</td>\n",
       "      <td>0.00100</td>\n",
       "      <td>0.001</td>\n",
       "      <td>0.001</td>\n",
       "    </tr>\n",
       "    <tr>\n",
       "      <th>2</th>\n",
       "      <td>0.001</td>\n",
       "      <td>0.001</td>\n",
       "      <td>1.00000</td>\n",
       "      <td>0.001</td>\n",
       "      <td>0.45174</td>\n",
       "      <td>0.001</td>\n",
       "      <td>0.001</td>\n",
       "    </tr>\n",
       "    <tr>\n",
       "      <th>3</th>\n",
       "      <td>0.001</td>\n",
       "      <td>0.001</td>\n",
       "      <td>0.00100</td>\n",
       "      <td>1.000</td>\n",
       "      <td>0.00100</td>\n",
       "      <td>0.001</td>\n",
       "      <td>0.001</td>\n",
       "    </tr>\n",
       "    <tr>\n",
       "      <th>4</th>\n",
       "      <td>0.001</td>\n",
       "      <td>0.001</td>\n",
       "      <td>0.45174</td>\n",
       "      <td>0.001</td>\n",
       "      <td>1.00000</td>\n",
       "      <td>0.001</td>\n",
       "      <td>0.001</td>\n",
       "    </tr>\n",
       "    <tr>\n",
       "      <th>5</th>\n",
       "      <td>0.001</td>\n",
       "      <td>0.001</td>\n",
       "      <td>0.00100</td>\n",
       "      <td>0.001</td>\n",
       "      <td>0.00100</td>\n",
       "      <td>1.000</td>\n",
       "      <td>0.001</td>\n",
       "    </tr>\n",
       "    <tr>\n",
       "      <th>6</th>\n",
       "      <td>0.001</td>\n",
       "      <td>0.001</td>\n",
       "      <td>0.00100</td>\n",
       "      <td>0.001</td>\n",
       "      <td>0.00100</td>\n",
       "      <td>0.001</td>\n",
       "      <td>1.000</td>\n",
       "    </tr>\n",
       "  </tbody>\n",
       "</table>\n",
       "</div>"
      ],
      "text/plain": [
       "       0      1        2      3        4      5      6\n",
       "0  1.000  0.001  0.00100  0.001  0.00100  0.001  0.001\n",
       "1  0.001  1.000  0.00100  0.001  0.00100  0.001  0.001\n",
       "2  0.001  0.001  1.00000  0.001  0.45174  0.001  0.001\n",
       "3  0.001  0.001  0.00100  1.000  0.00100  0.001  0.001\n",
       "4  0.001  0.001  0.45174  0.001  1.00000  0.001  0.001\n",
       "5  0.001  0.001  0.00100  0.001  0.00100  1.000  0.001\n",
       "6  0.001  0.001  0.00100  0.001  0.00100  0.001  1.000"
      ]
     },
     "execution_count": 37,
     "metadata": {},
     "output_type": "execute_result"
    }
   ],
   "source": [
    "\n",
    " \n",
    "# Combine three groups into one array\n",
    "data1 = np.array([data.Age,data.BodyTemp,data.HeartRate,data.SystolicBP, data.DiastolicBP, data.BS,data.RiskLevel])\n",
    " \n",
    "# Conduct the Nemenyi post-hoc test\n",
    "sp.posthoc_nemenyi_friedman(data1.T)"
   ]
  },
  {
   "cell_type": "markdown",
   "id": "4f7bfe1e",
   "metadata": {},
   "source": [
    "<font color=green>\n",
    "    <b> Conclusion:</b>\n",
    "For α = 0.05 there are only two groups that seem to have statistically significantly same mean which are<b> Heart Rate and Diastolic BP.</b>\n",
    "\n",
    "Except these two remaining all features means are statistically different."
   ]
  },
  {
   "cell_type": "markdown",
   "id": "f4857406",
   "metadata": {},
   "source": [
    "# CH 4.3\n",
    "# CATEGORICAL DATA ANALYSIS"
   ]
  },
  {
   "cell_type": "markdown",
   "id": "03abd63d",
   "metadata": {},
   "source": [
    "since data does not have categorical feature with only 2 levels we can not use Fisher testSo we will use chi square test of Homogenity"
   ]
  },
  {
   "cell_type": "markdown",
   "id": "1edd8129",
   "metadata": {},
   "source": [
    "CHI SQUARED TEST OF INDEPENDENCE:\n",
    "Chi-square test for independence is often used to examine independence between two categorical variables which has more than 2 levels.\n"
   ]
  },
  {
   "cell_type": "markdown",
   "id": "da317c46",
   "metadata": {},
   "source": [
    "For our Chi-square test for independence here, the null hypothesis is that there is no significant relationship between ‘BP’ and ‘Risk’.\n",
    "\n",
    "The alternative hypothesis is that there is significant relationship between ‘BP’ and ‘Risk’."
   ]
  },
  {
   "cell_type": "markdown",
   "id": "aba0181b",
   "metadata": {},
   "source": [
    "For  Chi-square test for independenc:\n",
    "\n",
    " -  H0 (accepted): There is no Association between two  variables.\n",
    "\n",
    " -  Ha (rejected): There is an Association between two  variables."
   ]
  },
  {
   "cell_type": "code",
   "execution_count": 39,
   "id": "97762c5c",
   "metadata": {
    "scrolled": true
   },
   "outputs": [],
   "source": [
    "ct = pd.crosstab(data.systolic_cat, data.RiskLevel, margins=True)"
   ]
  },
  {
   "cell_type": "markdown",
   "id": "bff68d3e",
   "metadata": {},
   "source": [
    "<h3>Categorical Analysis of StstolicBP and RiskLevel</h3>"
   ]
  },
  {
   "cell_type": "code",
   "execution_count": 41,
   "id": "00a8a97e",
   "metadata": {},
   "outputs": [],
   "source": [
    "crosstab = pd.crosstab(data[\"systolic_cat\"], data[\"RiskLevel\"])\n",
    "#chisquare(2)=260.920 from test and chisquare(2) for 0.05from chi table:5.991"
   ]
  },
  {
   "cell_type": "code",
   "execution_count": 42,
   "id": "95619234",
   "metadata": {},
   "outputs": [],
   "source": [
    "def ChiSqTest(cross):\n",
    "    stat, p, dof, expected = chi2_contingency(cross)\n",
    "    prob = 0.95\n",
    "    critical = chi2.ppf(prob, dof)\n",
    "    print(\"P value\",p)\n",
    "    print(\"critical-chisquare value from table\",critical)\n",
    "    print(\"Test Statistic\",stat)\n",
    "    if abs(stat) >= critical:\n",
    "        print('Dependent-> There is Association between these variables (reject H0)')\n",
    "    else:\n",
    "        print('Independent-> No Association (fail to reject H0)')"
   ]
  },
  {
   "cell_type": "code",
   "execution_count": 43,
   "id": "198aead1",
   "metadata": {},
   "outputs": [
    {
     "name": "stdout",
     "output_type": "stream",
     "text": [
      "P value 2.1965336868836304e-57\n",
      "critical-chisquare value from table 5.991464547107979\n",
      "Test Statistic 260.920939559451\n",
      "Dependent-> There is Association between these variables (reject H0)\n"
     ]
    }
   ],
   "source": [
    "ChiSqTest(crosstab)"
   ]
  },
  {
   "cell_type": "markdown",
   "id": "4075bcfc",
   "metadata": {},
   "source": [
    "<font color=green>\n",
    "    \n",
    "Conclusion:\n",
    " - pvalue <(alpha) i.e 0.05  and test stastistic is grater than chisquare value from the chi table.\n",
    " - hence reject H0\n",
    " - Implies: There is Association between two variables\n",
    "    \n",
    "<b>As tested for all other variables, All independent features in the dataset has Association with RiskLevel</b>"
   ]
  },
  {
   "cell_type": "code",
   "execution_count": 44,
   "id": "768d97de",
   "metadata": {
    "scrolled": true
   },
   "outputs": [
    {
     "name": "stdout",
     "output_type": "stream",
     "text": [
      "P value 2.515141838684496e-28\n",
      "critical-chisquare value from table 5.991464547107979\n",
      "Test Statistic 127.10010680956117\n",
      "Dependent-> There is Association between these variables (reject H0)\n",
      "P value 6.282812035469599e-12\n",
      "critical-chisquare value from table 5.991464547107979\n",
      "Test Statistic 51.586406918643384\n",
      "Dependent-> There is Association between these variables (reject H0)\n",
      "P value 8.299514517878288e-06\n",
      "critical-chisquare value from table 3.841458820694124\n",
      "Test Statistic 19.86759852998465\n",
      "Dependent-> There is Association between these variables (reject H0)\n"
     ]
    }
   ],
   "source": [
    "crosstab1 = pd.crosstab(data[\"diasstolic_cat\"], data[\"RiskLevel\"])\n",
    "ChiSqTest(crosstab1)\n",
    "crosstab2 = pd.crosstab(data[\"Age_cat\"], data[\"RiskLevel\"])\n",
    "ChiSqTest(crosstab2)\n",
    "crosstab3 = pd.crosstab(data[\"HR_cat\"], data[\"RiskLevel\"])\n",
    "ChiSqTest(crosstab3)\n",
    "\n"
   ]
  },
  {
   "cell_type": "markdown",
   "id": "621b51ea",
   "metadata": {},
   "source": [
    "\n",
    "# 4.5  Feature Selection "
   ]
  },
  {
   "cell_type": "markdown",
   "id": "107c8949",
   "metadata": {},
   "source": [
    "<h2> By using Fisher Score</h2>"
   ]
  },
  {
   "cell_type": "markdown",
   "id": "b228bb44",
   "metadata": {},
   "source": [
    "Fisher Score (chi-square implementation)\n",
    "It computes chi-squared stats between each non-negative feature and class.\n",
    "This score can be used to evaluate categorical variables in a classification task.\n",
    "It compares the observed distribution of the different classes of target Y among the different categories of the feature, \n",
    "against the expected distribution of the target classes, regardless of the feature categories.\n",
    "We will use this to select the K best features based on Fisher score."
   ]
  },
  {
   "cell_type": "code",
   "execution_count": 46,
   "id": "43dae266",
   "metadata": {
    "scrolled": true
   },
   "outputs": [
    {
     "name": "stdout",
     "output_type": "stream",
     "text": [
      "Original number of features: 6\n",
      "Reduced number of features: 4\n"
     ]
    }
   ],
   "source": [
    "target=data['RiskLevel']\n",
    "train_data=data[['Age','SystolicBP','DiastolicBP','BS','BodyTemp','HeartRate']].astype(int).copy()\n",
    "fvalue_selector = SelectKBest(f_classif, k=4)\n",
    "X_kbest = fvalue_selector.fit_transform(train_data,target)\n",
    "print('Original number of features:', train_data.shape[1])\n",
    "print('Reduced number of features:', X_kbest.shape[1])"
   ]
  },
  {
   "cell_type": "code",
   "execution_count": 47,
   "id": "c3ae3c43",
   "metadata": {},
   "outputs": [
    {
     "data": {
      "text/plain": [
       "array([[ 25, 130,  80,  15],\n",
       "       [ 35, 140,  90,  13],\n",
       "       [ 29,  90,  70,   8],\n",
       "       ...,\n",
       "       [ 19, 120,  76,   7],\n",
       "       [ 40, 160, 100,  19],\n",
       "       [ 32, 140,  90,  18]])"
      ]
     },
     "execution_count": 47,
     "metadata": {},
     "output_type": "execute_result"
    }
   ],
   "source": [
    "X_kbest"
   ]
  },
  {
   "cell_type": "markdown",
   "id": "2e4a7a0b",
   "metadata": {
    "scrolled": true
   },
   "source": [
    "<font color=green>\n",
    "Best 4 features selected using fisher score are:\n",
    " \n",
    " - Age\n",
    " - Systolic BP\n",
    " - Diastolic BP\n",
    " - Bllod Sugar\n",
    "<font>"
   ]
  },
  {
   "cell_type": "markdown",
   "id": "73061175",
   "metadata": {},
   "source": [
    "### split data into train and test data with 20% test data"
   ]
  },
  {
   "cell_type": "code",
   "execution_count": 48,
   "id": "518bd8f9",
   "metadata": {},
   "outputs": [],
   "source": [
    "x_train, x_test, y_train, y_test = train_test_split(data.drop(labels=['RiskLevel'], axis=1), data['RiskLevel'], test_size=0.2, random_state=0)"
   ]
  },
  {
   "cell_type": "code",
   "execution_count": 50,
   "id": "8c693991",
   "metadata": {},
   "outputs": [],
   "source": [
    "x_train_num=x_train.drop(labels=['systolic_cat','sbp_onehot','Age_cat','age_cat_encode','diasstolic_cat','HR_cat','dbp_onehot'],axis=1)"
   ]
  },
  {
   "cell_type": "code",
   "execution_count": 53,
   "id": "464a3a8c",
   "metadata": {},
   "outputs": [],
   "source": [
    "\n",
    "x_test_num=x_test.drop(labels=['systolic_cat','sbp_onehot','Age_cat','age_cat_encode','diasstolic_cat','HR_cat','dbp_onehot'],axis=1)\n"
   ]
  },
  {
   "cell_type": "code",
   "execution_count": 55,
   "id": "5328abf1",
   "metadata": {},
   "outputs": [],
   "source": [
    "y_train=y_train.astype('category')\n",
    "x_train=x_train.astype('category')"
   ]
  },
  {
   "cell_type": "code",
   "execution_count": 56,
   "id": "f18bb5bd",
   "metadata": {},
   "outputs": [],
   "source": [
    "scaler = StandardScaler()"
   ]
  },
  {
   "cell_type": "code",
   "execution_count": 57,
   "id": "9222642b",
   "metadata": {},
   "outputs": [],
   "source": [
    "x_train_num = scaler.fit_transform(x_train_num)\n",
    "x_test_num = scaler.fit_transform(x_test_num)\n"
   ]
  },
  {
   "cell_type": "markdown",
   "id": "a723975f",
   "metadata": {},
   "source": [
    "#  4.4\n"
   ]
  },
  {
   "cell_type": "code",
   "execution_count": 58,
   "id": "6fe071ff",
   "metadata": {},
   "outputs": [],
   "source": [
    "x_test_num = scaler.fit_transform(x_test_num)"
   ]
  },
  {
   "cell_type": "code",
   "execution_count": 59,
   "id": "517c8de0",
   "metadata": {},
   "outputs": [],
   "source": [
    "from mlxtend.feature_selection import SequentialFeatureSelector as sfs\n",
    "from sklearn.linear_model import LinearRegression"
   ]
  },
  {
   "cell_type": "markdown",
   "id": "29b5b2c4",
   "metadata": {},
   "source": [
    "# Logistic regression"
   ]
  },
  {
   "cell_type": "code",
   "execution_count": 100,
   "id": "7031428c",
   "metadata": {},
   "outputs": [
    {
     "name": "stdout",
     "output_type": "stream",
     "text": [
      "Accuracy: 0.5617283950617284\n",
      "R^2 score: -0.8070699135899448\n"
     ]
    }
   ],
   "source": [
    "model = LogisticRegression()\n",
    "model.fit(x_train_num, y_train)\n",
    "pred=model.predict(x_test_num)\n",
    "print(\"Accuracy:\",metrics.accuracy_score(y_test, pred))\n",
    "r2 = r2_score(y_test,pred)\n",
    "print(\"R^2 score:\",r2)\n",
    "\n"
   ]
  },
  {
   "cell_type": "markdown",
   "id": "70546506",
   "metadata": {},
   "source": [
    "<font color=green>\n",
    " Analysis:\n",
    "    \n",
    "  - Accuracy of logistic regression: 0.87\n",
    "  - R^2 score of logestic regression: 0.47\n",
    "\n",
    "When Implemented <b> Linear regression classifier over the data, acuuracy is 85% </b>"
   ]
  },
  {
   "cell_type": "markdown",
   "id": "79051134",
   "metadata": {},
   "source": [
    "\n",
    "<h2>Feature selection by using Resampling methods</h2>"
   ]
  },
  {
   "cell_type": "markdown",
   "id": "1cc0360a",
   "metadata": {},
   "source": [
    "<h3>Forward Selection using Logestic regression</h3>"
   ]
  },
  {
   "cell_type": "markdown",
   "id": "88bc631e",
   "metadata": {},
   "source": [
    "Forward selection is a greedy type algorithm that starts with an empty set of features and \n",
    "adds features one by one until when all remaining variables have a p-value above some\n",
    "threshold.\n",
    "In general it will add the most important feature which has great impact on the target value at each step.\n",
    " -  It is very useful  to know which features are having great impact on the target\n",
    " -  Simple and easy to implement but can be computationally expensive"
   ]
  },
  {
   "cell_type": "code",
   "execution_count": 61,
   "id": "3951d993",
   "metadata": {
    "scrolled": true
   },
   "outputs": [
    {
     "name": "stderr",
     "output_type": "stream",
     "text": [
      "[Parallel(n_jobs=1)]: Using backend SequentialBackend with 1 concurrent workers.\n",
      "[Parallel(n_jobs=1)]: Done   1 out of   1 | elapsed:    0.0s remaining:    0.0s\n",
      "[Parallel(n_jobs=1)]: Done   7 out of   7 | elapsed:    0.1s finished\n",
      "\n",
      "[2022-12-16 20:19:42] Features: 1/5 -- score: 0.4168963651226785[Parallel(n_jobs=1)]: Using backend SequentialBackend with 1 concurrent workers.\n",
      "[Parallel(n_jobs=1)]: Done   1 out of   1 | elapsed:    0.0s remaining:    0.0s\n",
      "[Parallel(n_jobs=1)]: Done   6 out of   6 | elapsed:    0.1s finished\n",
      "\n",
      "[2022-12-16 20:19:42] Features: 2/5 -- score: 0.475091246128516[Parallel(n_jobs=1)]: Using backend SequentialBackend with 1 concurrent workers.\n",
      "[Parallel(n_jobs=1)]: Done   1 out of   1 | elapsed:    0.0s remaining:    0.0s\n",
      "[Parallel(n_jobs=1)]: Done   5 out of   5 | elapsed:    0.1s finished\n",
      "[Parallel(n_jobs=1)]: Using backend SequentialBackend with 1 concurrent workers.\n",
      "[Parallel(n_jobs=1)]: Done   1 out of   1 | elapsed:    0.0s remaining:    0.0s\n",
      "[Parallel(n_jobs=1)]: Done   2 out of   2 | elapsed:    0.0s finished\n",
      "\n",
      "[2022-12-16 20:19:42] Features: 3/5 -- score: 0.4881604550217034[Parallel(n_jobs=1)]: Using backend SequentialBackend with 1 concurrent workers.\n",
      "[Parallel(n_jobs=1)]: Done   1 out of   1 | elapsed:    0.0s remaining:    0.0s\n",
      "[Parallel(n_jobs=1)]: Done   4 out of   4 | elapsed:    0.1s finished\n",
      "[Parallel(n_jobs=1)]: Using backend SequentialBackend with 1 concurrent workers.\n",
      "[Parallel(n_jobs=1)]: Done   1 out of   1 | elapsed:    0.0s remaining:    0.0s\n",
      "[Parallel(n_jobs=1)]: Done   3 out of   3 | elapsed:    0.0s finished\n",
      "[Parallel(n_jobs=1)]: Using backend SequentialBackend with 1 concurrent workers.\n",
      "[Parallel(n_jobs=1)]: Done   1 out of   1 | elapsed:    0.0s remaining:    0.0s\n",
      "[Parallel(n_jobs=1)]: Done   2 out of   2 | elapsed:    0.0s finished\n",
      "\n",
      "[2022-12-16 20:19:42] Features: 3/5 -- score: 0.4945874063072087[Parallel(n_jobs=1)]: Using backend SequentialBackend with 1 concurrent workers.\n",
      "[Parallel(n_jobs=1)]: Done   1 out of   1 | elapsed:    0.0s remaining:    0.0s\n",
      "[Parallel(n_jobs=1)]: Done   4 out of   4 | elapsed:    0.0s finished\n",
      "[Parallel(n_jobs=1)]: Using backend SequentialBackend with 1 concurrent workers.\n",
      "[Parallel(n_jobs=1)]: Done   1 out of   1 | elapsed:    0.0s remaining:    0.0s\n",
      "[Parallel(n_jobs=1)]: Done   3 out of   3 | elapsed:    0.0s finished\n",
      "\n",
      "[2022-12-16 20:19:42] Features: 4/5 -- score: 0.4946069796092248[Parallel(n_jobs=1)]: Using backend SequentialBackend with 1 concurrent workers.\n",
      "[Parallel(n_jobs=1)]: Done   1 out of   1 | elapsed:    0.0s remaining:    0.0s\n",
      "[Parallel(n_jobs=1)]: Done   3 out of   3 | elapsed:    0.1s finished\n",
      "[Parallel(n_jobs=1)]: Using backend SequentialBackend with 1 concurrent workers.\n",
      "[Parallel(n_jobs=1)]: Done   1 out of   1 | elapsed:    0.0s remaining:    0.0s\n",
      "[Parallel(n_jobs=1)]: Done   4 out of   4 | elapsed:    0.1s finished\n",
      "\n",
      "[2022-12-16 20:19:42] Features: 5/5 -- score: 0.49464612621325693"
     ]
    }
   ],
   "source": [
    "# Logestic regression with forward feature selection\n",
    "\n",
    "log_reg=LogisticRegression()\n",
    "\n",
    "sfs1 = sfs(log_reg, k_features=5,forward=True, floating=True, verbose=2, scoring='r2', cv=3)\n",
    "sfs_tr = sfs1.fit(np.array(x_train_num), y_train)\n"
   ]
  },
  {
   "cell_type": "code",
   "execution_count": 63,
   "id": "a90090bf",
   "metadata": {},
   "outputs": [
    {
     "name": "stdout",
     "output_type": "stream",
     "text": [
      "Selected features: (0, 1, 2, 3, 4)\n"
     ]
    }
   ],
   "source": [
    "#sfs_tr.k_feature_idx\n",
    "print('Selected features:', sfs_tr.k_feature_idx_)"
   ]
  },
  {
   "cell_type": "markdown",
   "id": "0e064247",
   "metadata": {},
   "source": [
    "#### On Test Data"
   ]
  },
  {
   "cell_type": "code",
   "execution_count": 64,
   "id": "ae7e0ad9",
   "metadata": {},
   "outputs": [
    {
     "name": "stdout",
     "output_type": "stream",
     "text": [
      "Accuracy: 0.8765432098765432\n",
      "R^2 score: 0.5034482758620691\n"
     ]
    }
   ],
   "source": [
    "X_train_sfs = sfs1.transform(x_train_num)\n",
    "X_test_sfs = sfs1.transform(x_test_num)\n",
    "\n",
    "# Fit the estimator using the new feature subset\n",
    "# and make a prediction on the test data\n",
    "log_reg.fit(X_train_sfs, y_train)\n",
    "y_pred = log_reg.predict(X_test_sfs)\n",
    "print(\"Accuracy:\",metrics.accuracy_score(y_test, y_pred))\n",
    "r2 = r2_score(y_test,y_pred)\n",
    "print(\"R^2 score:\",r2)\n",
    "\n"
   ]
  },
  {
   "cell_type": "markdown",
   "id": "839b7ff2",
   "metadata": {},
   "source": [
    "<font color=green>\n",
    "Conclusion:\n",
    "    \n",
    "Best four features selected by the Forward selection model are:\n",
    " - Age,\n",
    " - Systolic  BP,\n",
    " - Diastolic BP,\n",
    " - Blood sugar,\n",
    " - Body temparature\n",
    "    \n",
    "When Logestic regression model was implemented with features given by Forward selection model,\n",
    "Accuracy increased to 87%"
   ]
  },
  {
   "cell_type": "markdown",
   "id": "f8a062ce",
   "metadata": {},
   "source": [
    "### Backward Selection using Logestic regression"
   ]
  },
  {
   "cell_type": "markdown",
   "id": "56295b73",
   "metadata": {},
   "source": [
    "Backward selection is another approach that starts with a complete set of features and removes \n",
    "features one by one( which has highest p value) until it reaches the s topping criteria or\n",
    "when all the features has P values less than some threshold.\n",
    "This method is more computationally efficient."
   ]
  },
  {
   "cell_type": "code",
   "execution_count": 65,
   "id": "6baf98dd",
   "metadata": {},
   "outputs": [
    {
     "name": "stderr",
     "output_type": "stream",
     "text": [
      "[Parallel(n_jobs=1)]: Using backend SequentialBackend with 1 concurrent workers.\n",
      "[Parallel(n_jobs=1)]: Done   1 out of   1 | elapsed:    0.0s remaining:    0.0s\n",
      "[Parallel(n_jobs=1)]: Done   7 out of   7 | elapsed:    0.1s finished\n",
      "\n",
      "[2022-12-16 20:19:49] Features: 6/5 -- score: 0.5075587486903159[Parallel(n_jobs=1)]: Using backend SequentialBackend with 1 concurrent workers.\n",
      "[Parallel(n_jobs=1)]: Done   1 out of   1 | elapsed:    0.0s remaining:    0.0s\n",
      "[Parallel(n_jobs=1)]: Done   6 out of   6 | elapsed:    0.1s finished\n",
      "\n",
      "[2022-12-16 20:19:49] Features: 5/5 -- score: 0.4881408817196873"
     ]
    }
   ],
   "source": [
    "sfs1 = sfs(log_reg, k_features=5,forward=False, floating=True, verbose=2, scoring='r2', cv=3)\n",
    "sfs_tr = sfs1.fit(np.array(x_train_num), y_train)"
   ]
  },
  {
   "cell_type": "code",
   "execution_count": 66,
   "id": "b04c3bc5",
   "metadata": {},
   "outputs": [
    {
     "name": "stdout",
     "output_type": "stream",
     "text": [
      "Selected features: (0, 1, 3, 4, 5)\n"
     ]
    }
   ],
   "source": [
    "#sfs_tr.k_feature_idx\n",
    "print('Selected features:', sfs_tr.k_feature_idx_)"
   ]
  },
  {
   "cell_type": "markdown",
   "id": "98ccb207",
   "metadata": {},
   "source": [
    "<font color=green>\n",
    "Best four features selected by the backward selection model are:\n",
    "    \n",
    " - Age,\n",
    " - Systolic  BP,\n",
    " - Bllod sugar,\n",
    " - Body temparature\n",
    "</font>"
   ]
  },
  {
   "cell_type": "code",
   "execution_count": 67,
   "id": "cfa2de2f",
   "metadata": {},
   "outputs": [
    {
     "name": "stdout",
     "output_type": "stream",
     "text": [
      "Accuracy: 0.8641975308641975\n",
      " R^2 score: 0.47862068965517257\n"
     ]
    }
   ],
   "source": [
    "X_train_sfs1 = sfs1.transform(x_train_num)\n",
    "X_test_sfs1 = sfs1.transform(x_test_num)\n",
    "\n",
    "# Fit the estimator using the new feature subset\n",
    "# and make a prediction on the test data\n",
    "log_reg.fit(X_train_sfs1, y_train)\n",
    "y_pred = log_reg.predict(X_test_sfs1)\n",
    "print(\"Accuracy:\",metrics.accuracy_score(y_test, y_pred)) \n",
    "r2 = r2_score(y_test,pred)\n",
    "print(\" R^2 score:\",r2)\n",
    "\n"
   ]
  },
  {
   "cell_type": "markdown",
   "id": "f8b47438",
   "metadata": {},
   "source": [
    "<font color=green>\n",
    "\n",
    "    \n",
    "Best four features selected by the Backward selection model are:\n",
    " - Age,\n",
    " - Systolic  BP,\n",
    " - Blood sugar,\n",
    " - Body temparature\n",
    " - Heart Rate\n",
    "    \n",
    "When Logestic regression model was implemented with features selected by Backward selection model,\n",
    "Accuracy increased to 87.65% from 87%"
   ]
  },
  {
   "cell_type": "markdown",
   "id": "6fd18dc1",
   "metadata": {},
   "source": [
    "<font color=blue>\n",
    " <b> Conclusion:<b><br>\n",
    "from the above two methods i,e forward and backward selection we can conclude that all the features are having significant impact on the target variable 'Risk Level' except Diastolic BP and heart rate as the forward seletion method selected Diastolic BP as the 5th important variable where as backead selection method selected heart rate as the 5th important feature\n",
    "\n",
    " - Accuracy for Forward selection model with 5 best features is 87%\n",
    " - Accuracy for Backward selection model with 5. best features is 86%\n",
    "</font>"
   ]
  },
  {
   "cell_type": "markdown",
   "id": "b6642af0",
   "metadata": {},
   "source": [
    "##  Cross Validation and Bootstrap"
   ]
  },
  {
   "cell_type": "markdown",
   "id": "613be408",
   "metadata": {},
   "source": [
    "### Bootstrap"
   ]
  },
  {
   "cell_type": "code",
   "execution_count": 68,
   "id": "1be499fd",
   "metadata": {},
   "outputs": [],
   "source": [
    "le = LabelEncoder()\n",
    "level = le.fit_transform(df['RiskLevel'])\n",
    "df['RiskLevel']=level"
   ]
  },
  {
   "cell_type": "code",
   "execution_count": 69,
   "id": "f97ff9cc",
   "metadata": {},
   "outputs": [],
   "source": [
    "values=df.values"
   ]
  },
  {
   "cell_type": "code",
   "execution_count": 70,
   "id": "c086958a",
   "metadata": {},
   "outputs": [],
   "source": [
    "n_iterations = 10  #No. of bootstrap samples to be repeated (created)\n",
    "n_size = int(len(df) * 0.50) #Size of sample, picking only 50% of the given data in every bootstrap sample\n"
   ]
  },
  {
   "cell_type": "code",
   "execution_count": 71,
   "id": "dc5e0201",
   "metadata": {},
   "outputs": [
    {
     "name": "stdout",
     "output_type": "stream",
     "text": [
      "0.8760683760683761\n",
      "0.8789237668161435\n",
      "0.882051282051282\n",
      "0.821256038647343\n",
      "0.8808510638297873\n",
      "0.9289340101522843\n",
      "0.8497652582159625\n",
      "0.85\n",
      "0.8785046728971962\n",
      "0.8605769230769231\n"
     ]
    }
   ],
   "source": [
    "\n",
    "stats = list()\n",
    "for i in range(n_iterations):\n",
    "\n",
    "    #prepare train & test sets\n",
    "    train = resample(values, n_samples = n_size) #Sampling with replacement..whichever is not used in training data will be used in test data\n",
    "    test = np.array([x for x in values if x.tolist() not in train.tolist()]) #picking rest of the data not considered in training sample\n",
    "    \n",
    "    #fit model\n",
    "    model = LogisticRegression()\n",
    "    model.fit(train[:,:-1], train[:,-1]) #model.fit(X_train,y_train) i.e model.fit(train set, train label as it is a classifier)\n",
    "    \n",
    "    #evaluate model\n",
    "    predictions = model.predict(test[:,:-1]) #model.predict(X_test)\n",
    "    score = accuracy_score(test[:,-1], predictions) #accuracy_score(y_test, y_pred)\n",
    "    #score=r2_score(test[:,-1], predictions)\n",
    "    \n",
    "    \n",
    "    print(score)\n",
    "    stats.append(score)"
   ]
  },
  {
   "cell_type": "markdown",
   "id": "8b46bf0c",
   "metadata": {},
   "source": [
    "<font color=green>\n",
    "Here each Bootstrap iteration sample would create one model and this model is tested against the Out of Bag (test data) of that sample, i.e we will test sample with the test sample not part of that sample.\n",
    "<br>\n",
    "<br>\n",
    "Thus we obtain ACUURACY scores for 10 samples.\n"
   ]
  },
  {
   "cell_type": "code",
   "execution_count": 72,
   "id": "bb2e4797",
   "metadata": {},
   "outputs": [
    {
     "data": {
      "text/plain": [
       "<Figure size 720x360 with 0 Axes>"
      ]
     },
     "execution_count": 72,
     "metadata": {},
     "output_type": "execute_result"
    },
    {
     "data": {
      "image/png": "[encoded data removed]",
      "text/plain": [
       "<Figure size 432x288 with 1 Axes>"
      ]
     },
     "metadata": {
      "needs_background": "light"
     },
     "output_type": "display_data"
    },
    {
     "data": {
      "text/plain": [
       "<Figure size 720x360 with 0 Axes>"
      ]
     },
     "metadata": {},
     "output_type": "display_data"
    }
   ],
   "source": [
    "plt.hist(stats)\n",
    "plt.figure(figsize = (10,5))"
   ]
  },
  {
   "cell_type": "markdown",
   "id": "f0fe6eeb",
   "metadata": {},
   "source": [
    "# K Fold cross validation"
   ]
  },
  {
   "cell_type": "code",
   "execution_count": 73,
   "id": "7eae2b04",
   "metadata": {},
   "outputs": [],
   "source": [
    "from numpy import mean\n",
    "from numpy import std"
   ]
  },
  {
   "cell_type": "code",
   "execution_count": 75,
   "id": "29fd6162",
   "metadata": {},
   "outputs": [],
   "source": [
    "#Create separate arrays such that only values are considered as X, y\n",
    "values = data.values\n",
    "\n"
   ]
  },
  {
   "cell_type": "code",
   "execution_count": 76,
   "id": "01f0bd0a",
   "metadata": {},
   "outputs": [],
   "source": [
    "le = LabelEncoder()\n",
    "level = le.fit_transform(df['RiskLevel'])\n",
    "df['RiskLevel']=level"
   ]
  },
  {
   "cell_type": "code",
   "execution_count": 78,
   "id": "51ed1519",
   "metadata": {},
   "outputs": [],
   "source": [
    "x=df.iloc[:,0:6].values\n",
    "y=df.iloc[:,6:].values"
   ]
  },
  {
   "cell_type": "code",
   "execution_count": 80,
   "id": "574b64ba",
   "metadata": {},
   "outputs": [],
   "source": [
    "y=y.ravel()"
   ]
  },
  {
   "cell_type": "code",
   "execution_count": 81,
   "id": "5c2f3fd1",
   "metadata": {},
   "outputs": [],
   "source": [
    "cv = KFold(n_splits=10, random_state=1, shuffle=True)\n",
    "model = LogisticRegression(random_state = 0,multi_class='multinomial', solver='lbfgs',max_iter=1000)\n",
    "scores = cross_val_score(model, x, y, scoring='accuracy', cv=cv, n_jobs=-1)"
   ]
  },
  {
   "cell_type": "code",
   "execution_count": 82,
   "id": "5c815717",
   "metadata": {},
   "outputs": [
    {
     "name": "stdout",
     "output_type": "stream",
     "text": [
      "Accuracy: 0.887 (0.034)\n"
     ]
    }
   ],
   "source": [
    "print('Accuracy: %.3f (%.3f)' % (mean(scores), std(scores)))"
   ]
  },
  {
   "cell_type": "code",
   "execution_count": 83,
   "id": "b2003a29",
   "metadata": {},
   "outputs": [],
   "source": [
    "#Testing to find. better K value"
   ]
  },
  {
   "cell_type": "code",
   "execution_count": 84,
   "id": "bd318c02",
   "metadata": {},
   "outputs": [],
   "source": [
    "model = LogisticRegression(random_state = 0,multi_class='multinomial', solver='lbfgs',max_iter=1000)\n",
    "mean_score={}\n",
    "for i in range(2,20):\n",
    "    cv = KFold(n_splits=i, random_state=1, shuffle=True)\n",
    "    scores = cross_val_score(model, x, y, scoring='accuracy', cv=cv, n_jobs=-1)\n",
    "    mean_score[i]=(mean(scores))\n",
    "    \n",
    "\n"
   ]
  },
  {
   "cell_type": "code",
   "execution_count": 85,
   "id": "ac93a432",
   "metadata": {},
   "outputs": [
    {
     "name": "stdout",
     "output_type": "stream",
     "text": [
      " folds= 2  Mean Score value: 0.8948019801980198\n",
      " folds= 3  Mean Score value: 0.8873743632107945\n",
      " folds= 4  Mean Score value: 0.8849009900990099\n",
      " folds= 5  Mean Score value: 0.8861437006364543\n",
      " folds= 6  Mean Score value: 0.8861341440943432\n",
      " folds= 7  Mean Score value: 0.8911008781323624\n",
      " folds= 8  Mean Score value: 0.8886138613861386\n",
      " folds= 9  Mean Score value: 0.887404633097517\n",
      " folds= 10  Mean Score value: 0.8874537037037037\n",
      " folds= 11  Mean Score value: 0.8849079465517821\n",
      " folds= 12  Mean Score value: 0.8860477026631548\n",
      " folds= 13  Mean Score value: 0.8872740163062744\n",
      " folds= 14  Mean Score value: 0.8861161524500908\n",
      " folds= 15  Mean Score value: 0.8836943862101094\n",
      " folds= 16  Mean Score value: 0.884828431372549\n",
      " folds= 17  Mean Score value: 0.8860294117647058\n",
      " folds= 18  Mean Score value: 0.8873737373737373\n",
      " folds= 19  Mean Score value: 0.8860231975287054\n"
     ]
    }
   ],
   "source": [
    "for k, v in mean_score.items():\n",
    "    print(\" folds=\",k,\" Mean Score value:\", v)"
   ]
  },
  {
   "cell_type": "code",
   "execution_count": 86,
   "id": "c788e534",
   "metadata": {},
   "outputs": [
    {
     "name": "stdout",
     "output_type": "stream",
     "text": [
      " best fold is:  15 with Accuracy of 0.8836943862101094\n"
     ]
    }
   ],
   "source": [
    "min_value=min(mean_score.values())\n",
    "min_key=min(mean_score,key=mean_score.get)\n",
    "print(\" best fold is: \",min_key,\"with Accuracy of\",min_value)"
   ]
  },
  {
   "cell_type": "code",
   "execution_count": 87,
   "id": "d76ba3d0",
   "metadata": {
    "scrolled": true
   },
   "outputs": [
    {
     "data": {
      "image/png": "[encoded data removed]",
      "text/plain": [
       "<Figure size 1152x576 with 1 Axes>"
      ]
     },
     "metadata": {
      "needs_background": "light"
     },
     "output_type": "display_data"
    }
   ],
   "source": [
    "folds = list(mean_score.keys())           \n",
    "score = list(mean_score.values())        \n",
    "plt.figure(figsize=(16,8))\n",
    "plt.plot(folds, score, 'bx-')\n",
    "plt.xlabel('folds')\n",
    "plt.ylabel('mean score')\n",
    "plt.title(' folds and their Mean scores')\n",
    "plt.show()"
   ]
  },
  {
   "cell_type": "markdown",
   "id": "0268609b",
   "metadata": {},
   "source": [
    "<font color=green>\n",
    "\n",
    "<b>Conclusion:Optimal K fold here is 5. with means score of 0.8861.</b>\n"
   ]
  },
  {
   "cell_type": "markdown",
   "id": "f76043e2",
   "metadata": {},
   "source": [
    "#  4.6\n",
    "# Linear Model Selection and Regularization"
   ]
  },
  {
   "cell_type": "markdown",
   "id": "e75719bb",
   "metadata": {},
   "source": [
    "<b>Regularization</b>\n",
    "\n",
    "This is a form of regression, that constrains/ regularizes or shrinks the coefficient estimates towards zero. In other words, this technique discourages learning a more complex or flexible model, so as to avoid the risk of overfitting.\n",
    "\n",
    "Ridge(L2) Regularization, also called a ridge regression, adds the “squared magnitude” of the coefficient as the penalty term to the loss function."
   ]
  },
  {
   "cell_type": "code",
   "execution_count": 88,
   "id": "a577c3d2",
   "metadata": {},
   "outputs": [],
   "source": [
    "#L2 regularization\n",
    "X=df.drop(['RiskLevel'],axis=1)\n",
    "y=df['RiskLevel']\n",
    "\n",
    "X_train, X_test, y_train, y_test = train_test_split(X, y, test_size=0.2, random_state=42)\n",
    "\n",
    "regularized_lr=LogisticRegression(penalty='l2',solver='newton-cg',max_iter=200)\n",
    "regularized_lr.fit(X_train,y_train)\n",
    "reg_pred=regularized_lr.predict(X_test)"
   ]
  },
  {
   "cell_type": "code",
   "execution_count": 89,
   "id": "7cf37e90",
   "metadata": {
    "scrolled": true
   },
   "outputs": [
    {
     "name": "stdout",
     "output_type": "stream",
     "text": [
      "Accuracy: 0.9135802469135802\n",
      "R^2 score: 0.6436763550667715\n",
      " \n",
      "Confusion Matrix\n",
      "[[57 10]\n",
      " [ 4 91]]\n",
      "precision score: 0.900990099009901\n",
      "Recall: 0.9578947368421052\n"
     ]
    }
   ],
   "source": [
    "print(\"Accuracy:\",metrics.accuracy_score(y_test, reg_pred)) \n",
    "r2 = r2_score(y_test,reg_pred)\n",
    "print(\"R^2 score:\",r2)\n",
    "conf_matrix=confusion_matrix(y_test,reg_pred)\n",
    "print(\" \")\n",
    "print(\"Confusion Matrix\")\n",
    "print(conf_matrix)\n",
    "print(\"precision score:\", precision_score(y_test,reg_pred))\n",
    "print(\"Recall:\" ,recall_score(y_test,reg_pred))"
   ]
  },
  {
   "cell_type": "markdown",
   "id": "91697417",
   "metadata": {},
   "source": [
    "<font color=green>\n",
    "<b>\n",
    "Accuracy of logestic regression model has reached its accuracy when L2 regularization was applied.\n",
    "    \n",
    " - Accuracy Score : 0.913\n",
    " - Precision score: 0.9\n",
    " - Recall Score: 0.95\n",
    "</b>\n",
    "\n",
    "    "
   ]
  },
  {
   "cell_type": "markdown",
   "id": "56a3730e",
   "metadata": {},
   "source": [
    "##  PCA"
   ]
  },
  {
   "cell_type": "markdown",
   "id": "2f91cde5",
   "metadata": {},
   "source": [
    "Principal component analysis, or PCA, is a statistical procedure that allows you to summarize the information content in large data tables by means of a smaller set of “summary indices” that can be more easily visualized and analyzed.\n",
    "It is a popular technique for reducing the dimensionality of data. It increases interpretability yet, at the same time, it minimizes information loss. \n",
    "It helps to find the most significant features in a dataset and makes the data easy for plotting in 2D and 3D."
   ]
  },
  {
   "cell_type": "code",
   "execution_count": 91,
   "id": "7a76c8e6",
   "metadata": {},
   "outputs": [],
   "source": [
    "from sklearn.preprocessing import StandardScaler\n",
    "features = ['Age', 'SystolicBP', 'DiastolicBP', 'BS','BodyTemp','HeartRate']\n",
    "# Separating out the features\n",
    "x = df1.loc[:, features].values\n",
    "# Separating out the target\n",
    "y = df1.loc[:,['RiskLevel']].values\n",
    "# Standardizing the features\n",
    "x = StandardScaler().fit_transform(x)"
   ]
  },
  {
   "cell_type": "code",
   "execution_count": 92,
   "id": "82f447a6",
   "metadata": {},
   "outputs": [],
   "source": [
    "from sklearn.decomposition import PCA\n",
    "pca = PCA(n_components=2)\n",
    "principalComponents = pca.fit_transform(x)\n",
    "principalDf = pd.DataFrame(data = principalComponents\n",
    "             , columns = ['PC 1', 'PC 2'])"
   ]
  },
  {
   "cell_type": "code",
   "execution_count": 93,
   "id": "47a49919",
   "metadata": {},
   "outputs": [],
   "source": [
    "finalDf = pd.concat([principalDf, df1[['RiskLevel']]], axis = 1)"
   ]
  },
  {
   "cell_type": "code",
   "execution_count": 94,
   "id": "c9b7606a",
   "metadata": {
    "scrolled": true
   },
   "outputs": [
    {
     "name": "stdout",
     "output_type": "stream",
     "text": [
      "         PC 1      PC 2  RiskLevel\n",
      "0    1.266044 -1.302762  high risk\n",
      "1    1.825404  0.504725  high risk\n",
      "2   -1.298150 -0.996789  high risk\n",
      "3    0.798336  1.019324  high risk\n",
      "4   -0.515925  0.139068   low risk\n",
      "..        ...       ...        ...\n",
      "803 -0.076408  1.232323   low risk\n",
      "804 -1.090898 -0.278898   low risk\n",
      "805 -0.372450  1.227152   low risk\n",
      "806  3.625272 -0.518308  high risk\n",
      "807  2.468733 -1.652197  high risk\n",
      "\n",
      "[808 rows x 3 columns]\n"
     ]
    }
   ],
   "source": [
    "print(finalDf)"
   ]
  },
  {
   "cell_type": "markdown",
   "id": "9624de7d",
   "metadata": {},
   "source": [
    "Conclusion:\n",
    "    All the 6 features of the  dataset were reduced to two features"
   ]
  },
  {
   "cell_type": "code",
   "execution_count": 96,
   "id": "466b51b2",
   "metadata": {},
   "outputs": [
    {
     "data": {
      "image/png": "[encoded data removed]",
      "text/plain": [
       "<Figure size 576x576 with 1 Axes>"
      ]
     },
     "metadata": {
      "needs_background": "light"
     },
     "output_type": "display_data"
    }
   ],
   "source": [
    "fig = plt.figure(figsize = (8,8))\n",
    "ax = fig.add_subplot(1,1,1) \n",
    "ax.set_xlabel('Principal Component 1', fontsize = 15)\n",
    "ax.set_ylabel('Principal Component 2', fontsize = 15)\n",
    "ax.set_title('2 component PCA', fontsize = 20)\n",
    "targets = ['high risk', 'low risk' ]\n",
    "colors = ['r', 'g']\n",
    "for target, color in zip(targets,colors):\n",
    "    indicesToKeep = finalDf['RiskLevel'] == target\n",
    "    ax.scatter(finalDf.loc[indicesToKeep, 'PC 1']\n",
    "               , finalDf.loc[indicesToKeep, 'PC 2']\n",
    "               , c = color\n",
    "               , s = 50)\n",
    "ax.legend(targets)\n",
    "ax.grid()"
   ]
  },
  {
   "cell_type": "code",
   "execution_count": 97,
   "id": "cdfdd21f",
   "metadata": {},
   "outputs": [],
   "source": [
    "x=finalDf[['PC 1','PC 2']]\n",
    "x.head()\n",
    "y=finalDf[['RiskLevel']]\n",
    "\n",
    "le = LabelEncoder()\n",
    "level = le.fit_transform(y)\n",
    "y=level\n",
    "\n"
   ]
  },
  {
   "cell_type": "code",
   "execution_count": 98,
   "id": "961a8de9",
   "metadata": {},
   "outputs": [],
   "source": [
    "x_train, x_test, y_train, y_test = train_test_split(x, y, test_size=0.2, random_state=42)\n"
   ]
  },
  {
   "cell_type": "code",
   "execution_count": 101,
   "id": "2b12d848",
   "metadata": {},
   "outputs": [
    {
     "name": "stdout",
     "output_type": "stream",
     "text": [
      "Accuracy: 0.8518518518518519\n",
      "R^2 score: 0.38915946582875105\n"
     ]
    }
   ],
   "source": [
    "model = LogisticRegression()\n",
    "model.fit(x_train, y_train)\n",
    "pred=model.predict(x_test)\n",
    "print(\"Accuracy:\",metrics.accuracy_score(y_test, pred))\n",
    "r2 = r2_score(y_test,pred)\n",
    "print(\"R^2 score:\",r2)\n",
    "\n"
   ]
  },
  {
   "cell_type": "markdown",
   "id": "26e548df",
   "metadata": {},
   "source": [
    "<font color=green>\n",
    "Accuracy of Logistic regression with data reduction(2 principle components)is 85%"
   ]
  },
  {
   "cell_type": "markdown",
   "id": "51f70f38",
   "metadata": {},
   "source": [
    "# Conclusion"
   ]
  },
  {
   "cell_type": "markdown",
   "id": "094cf44e",
   "metadata": {},
   "source": [
    "<font color=green>\n",
    "Final Conclusion:\n",
    "\n",
    "After obseriving all the tests ,Logestic Regression with Regularization performed well with accuracy score of 91% and\n",
    "recall score of ~96% which is very important in medical field.\n",
    " \n",
    "    \n",
    "Sucessfully, we have tested all statistical methods on the data set."
   ]
  },
  {
   "cell_type": "markdown",
   "id": "d9d83539",
   "metadata": {},
   "source": [
    "# References"
   ]
  },
  {
   "cell_type": "markdown",
   "id": "d3a8121a",
   "metadata": {},
   "source": [
    "Dataset:  https://www.kaggle.com/datasets/drmbsharma/maternal-health-risk-data-set?resource=download\n",
    "https://www.researchgate.net/publication/361755492_Data_Analysis_Using_Statistical_Methods_Case_Study_of_Categorizing_the_Species_of_Penguin\n",
    "https://medium.com/analytics-vidhya/statistical-analysis-using-python-e83f10ca3c82"
   ]
  }
 ],
 "metadata": {
  "kernelspec": {
   "display_name": "Python 3 (ipykernel)",
   "language": "python",
   "name": "python3"
  },
  "language_info": {
   "codemirror_mode": {
    "name": "ipython",
    "version": 3
   },
   "file_extension": ".py",
   "mimetype": "text/x-python",
   "name": "python",
   "nbconvert_exporter": "python",
   "pygments_lexer": "ipython3",
   "version": "3.9.7"
  }
 },
 "nbformat": 4,
 "nbformat_minor": 5
}
